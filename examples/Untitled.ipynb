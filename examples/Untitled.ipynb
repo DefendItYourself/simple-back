{
 "cells": [
  {
   "cell_type": "code",
   "execution_count": 4,
   "metadata": {},
   "outputs": [
    {
     "name": "stdout",
     "output_type": "stream",
     "text": [
      "Collecting requests_html\n",
      "  Downloading requests_html-0.10.0-py3-none-any.whl (13 kB)\n",
      "Collecting bs4\n",
      "  Downloading bs4-0.0.1.tar.gz (1.1 kB)\n",
      "Collecting parse\n",
      "  Downloading parse-1.15.0.tar.gz (29 kB)\n",
      "Collecting fake-useragent\n",
      "  Downloading fake-useragent-0.1.11.tar.gz (13 kB)\n",
      "Collecting pyppeteer>=0.0.14\n",
      "  Downloading pyppeteer-0.2.2-py3-none-any.whl (145 kB)\n",
      "\u001b[K     |████████████████████████████████| 145 kB 3.2 MB/s eta 0:00:01\n",
      "\u001b[?25hCollecting pyquery\n",
      "  Downloading pyquery-1.4.1-py2.py3-none-any.whl (22 kB)\n",
      "Requirement already satisfied: requests in /home/cdminix/anaconda3/lib/python3.7/site-packages (from requests_html) (2.22.0)\n",
      "Collecting w3lib\n",
      "  Downloading w3lib-1.22.0-py2.py3-none-any.whl (20 kB)\n",
      "Requirement already satisfied: beautifulsoup4 in /home/cdminix/anaconda3/lib/python3.7/site-packages (from bs4->requests_html) (4.8.2)\n",
      "Collecting websockets<9.0,>=8.1\n",
      "  Downloading websockets-8.1-cp37-cp37m-manylinux2010_x86_64.whl (79 kB)\n",
      "\u001b[K     |████████████████████████████████| 79 kB 5.0 MB/s eta 0:00:01\n",
      "\u001b[?25hCollecting appdirs<2.0.0,>=1.4.3\n",
      "  Downloading appdirs-1.4.4-py2.py3-none-any.whl (9.6 kB)\n",
      "Requirement already satisfied: tqdm<5.0.0,>=4.42.1 in /home/cdminix/anaconda3/lib/python3.7/site-packages (from pyppeteer>=0.0.14->requests_html) (4.42.1)\n",
      "Collecting pyee<8.0.0,>=7.0.1\n",
      "  Downloading pyee-7.0.2-py2.py3-none-any.whl (12 kB)\n",
      "Requirement already satisfied: urllib3<2.0.0,>=1.25.8 in /home/cdminix/anaconda3/lib/python3.7/site-packages (from pyppeteer>=0.0.14->requests_html) (1.25.8)\n",
      "Collecting cssselect>0.7.9\n",
      "  Downloading cssselect-1.1.0-py2.py3-none-any.whl (16 kB)\n",
      "Requirement already satisfied: lxml>=2.1 in /home/cdminix/anaconda3/lib/python3.7/site-packages (from pyquery->requests_html) (4.5.0)\n",
      "Requirement already satisfied: idna<2.9,>=2.5 in /home/cdminix/anaconda3/lib/python3.7/site-packages (from requests->requests_html) (2.8)\n",
      "Requirement already satisfied: certifi>=2017.4.17 in /home/cdminix/anaconda3/lib/python3.7/site-packages (from requests->requests_html) (2019.11.28)\n",
      "Requirement already satisfied: chardet<3.1.0,>=3.0.2 in /home/cdminix/anaconda3/lib/python3.7/site-packages (from requests->requests_html) (3.0.4)\n",
      "Requirement already satisfied: six>=1.4.1 in /home/cdminix/anaconda3/lib/python3.7/site-packages (from w3lib->requests_html) (1.14.0)\n",
      "Requirement already satisfied: soupsieve>=1.2 in /home/cdminix/anaconda3/lib/python3.7/site-packages (from beautifulsoup4->bs4->requests_html) (1.9.5)\n",
      "Building wheels for collected packages: bs4, parse, fake-useragent\n",
      "  Building wheel for bs4 (setup.py) ... \u001b[?25ldone\n",
      "\u001b[?25h  Created wheel for bs4: filename=bs4-0.0.1-py3-none-any.whl size=1272 sha256=5947f9669f6f468973b765cbebdb16754c44de788f2e047f272320a131d14d27\n",
      "  Stored in directory: /home/cdminix/.cache/pip/wheels/0a/9e/ba/20e5bbc1afef3a491f0b3bb74d508f99403aabe76eda2167ca\n",
      "  Building wheel for parse (setup.py) ... \u001b[?25ldone\n",
      "\u001b[?25h  Created wheel for parse: filename=parse-1.15.0-py3-none-any.whl size=23709 sha256=9e96987d2d4b446d67985a487dd6212d36a5d759649f78ce06d38558078f0f12\n",
      "  Stored in directory: /home/cdminix/.cache/pip/wheels/d7/b3/1d/5c94c64413b2212f64a297c92f11edd45e4474d08d0220a008\n",
      "  Building wheel for fake-useragent (setup.py) ... \u001b[?25ldone\n",
      "\u001b[?25h  Created wheel for fake-useragent: filename=fake_useragent-0.1.11-py3-none-any.whl size=13487 sha256=30a81e4ee5a9805e283467b970444e57f4bfebae0790976297689b392df61ad4\n",
      "  Stored in directory: /home/cdminix/.cache/pip/wheels/ed/f7/62/50ab6c9a0b5567267ab76a9daa9d06315704209b2c5d032031\n",
      "Successfully built bs4 parse fake-useragent\n",
      "Installing collected packages: bs4, parse, fake-useragent, websockets, appdirs, pyee, pyppeteer, cssselect, pyquery, w3lib, requests-html\n",
      "Successfully installed appdirs-1.4.4 bs4-0.0.1 cssselect-1.1.0 fake-useragent-0.1.11 parse-1.15.0 pyee-7.0.2 pyppeteer-0.2.2 pyquery-1.4.1 requests-html-0.10.0 w3lib-1.22.0 websockets-8.1\n"
     ]
    }
   ],
   "source": [
    "!pip install requests_html"
   ]
  },
  {
   "cell_type": "code",
   "execution_count": 5,
   "metadata": {},
   "outputs": [],
   "source": [
    "from yahoo_fin.stock_info import get_data"
   ]
  },
  {
   "cell_type": "code",
   "execution_count": 7,
   "metadata": {},
   "outputs": [],
   "source": [
    "df = get_data('aapl')"
   ]
  },
  {
   "cell_type": "code",
   "execution_count": 20,
   "metadata": {},
   "outputs": [],
   "source": [
    "from datetime import datetime"
   ]
  },
  {
   "cell_type": "code",
   "execution_count": 27,
   "metadata": {},
   "outputs": [
    {
     "data": {
      "text/plain": [
       "open             111.39\n",
       "high             111.44\n",
       "low              107.35\n",
       "close            109.33\n",
       "adjclose        99.9459\n",
       "volume      5.32046e+07\n",
       "ticker             AAPL\n",
       "Name: 2015-01-02 00:00:00, dtype: object"
      ]
     },
     "execution_count": 27,
     "metadata": {},
     "output_type": "execute_result"
    }
   ],
   "source": [
    "df.loc['2015-1-2']"
   ]
  },
  {
   "cell_type": "code",
   "execution_count": 12,
   "metadata": {},
   "outputs": [
    {
     "ename": "TypeError",
     "evalue": "unsupported operand type(s) for -: 'datetime.date' and 'int'",
     "output_type": "error",
     "traceback": [
      "\u001b[0;31m---------------------------------------------------------------------------\u001b[0m",
      "\u001b[0;31mTypeError\u001b[0m                                 Traceback (most recent call last)",
      "\u001b[0;32m<ipython-input-12-e74765022b3a>\u001b[0m in \u001b[0;36m<module>\u001b[0;34m\u001b[0m\n\u001b[0;32m----> 1\u001b[0;31m \u001b[0mdate\u001b[0m\u001b[0;34m.\u001b[0m\u001b[0mtoday\u001b[0m\u001b[0;34m(\u001b[0m\u001b[0;34m)\u001b[0m\u001b[0;34m-\u001b[0m\u001b[0;36m1\u001b[0m\u001b[0;34m\u001b[0m\u001b[0;34m\u001b[0m\u001b[0m\n\u001b[0m",
      "\u001b[0;31mTypeError\u001b[0m: unsupported operand type(s) for -: 'datetime.date' and 'int'"
     ]
    }
   ],
   "source": [
    "date.today()-1"
   ]
  },
  {
   "cell_type": "code",
   "execution_count": 1,
   "metadata": {},
   "outputs": [],
   "source": [
    "from simple_back import price_providers"
   ]
  },
  {
   "cell_type": "code",
   "execution_count": 9,
   "metadata": {},
   "outputs": [],
   "source": [
    "prices = price_providers.YahooFinanceProvider()"
   ]
  },
  {
   "cell_type": "code",
   "execution_count": 10,
   "metadata": {},
   "outputs": [
    {
     "data": {
      "text/plain": [
       "99.94588470458984"
      ]
     },
     "execution_count": 10,
     "metadata": {},
     "output_type": "execute_result"
    }
   ],
   "source": [
    "prices['AAPL', '2015-1-2', 'close']"
   ]
  },
  {
   "cell_type": "code",
   "execution_count": null,
   "metadata": {},
   "outputs": [],
   "source": []
  }
 ],
 "metadata": {
  "kernelspec": {
   "display_name": "Python 3",
   "language": "python",
   "name": "python3"
  },
  "language_info": {
   "codemirror_mode": {
    "name": "ipython",
    "version": 3
   },
   "file_extension": ".py",
   "mimetype": "text/x-python",
   "name": "python",
   "nbconvert_exporter": "python",
   "pygments_lexer": "ipython3",
   "version": "3.7.6"
  }
 },
 "nbformat": 4,
 "nbformat_minor": 4
}
