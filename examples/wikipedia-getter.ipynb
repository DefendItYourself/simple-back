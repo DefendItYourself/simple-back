{
 "cells": [
  {
   "cell_type": "code",
   "execution_count": 53,
   "metadata": {},
   "outputs": [],
   "source": [
    "\n",
    "class SP100TickerGetter:\n",
    "    def __init__(self, n_tickers = 1000):\n",
    "        self.n_tickers = n_tickers\n",
    "\n",
    "    def get_tickers(self, current_date:date = date.today()):\n",
    "        '''\n",
    "        adapted from: https://stackoverflow.com/questions/44232578/automating-getting-the-sp-500-list\n",
    "        '''\n",
    "        url = \"https://en.wikipedia.org/wiki/S%26P_100\"\n",
    "        if current_date != date.today():\n",
    "            response = requests.get(\"https://en.wikipedia.org/w/index.php?title=S%26P_100&offset=&limit=500&action=history\")\n",
    "            bs_object = BeautifulSoup(response.text, 'html.parser')        \n",
    "            links = bs_object.findAll('a', {'class': 'mw-changeslist-date'})\n",
    "            dates = pd.Series()\n",
    "            for link in links:\n",
    "                dates[datetime.strptime(link.text, \"%H:%M, %d %B %Y\").date()] = link[\"href\"]\n",
    "            pivot = current_date\n",
    "            list_for_min = [_date for _date in dates.index if _date < pivot]\n",
    "            nearest_in_past = min(list_for_min, key=lambda x: abs(x - pivot))\n",
    "            url = \"https://en.wikipedia.org/\"+dates[nearest_in_past]\n",
    "            \n",
    "        response = requests.get(url)\n",
    "        bs_object = BeautifulSoup(response.text, 'html.parser')\n",
    "        table = bs_object.find('table', {'class': 'wikitable sortable'})        \n",
    "        \n",
    "        tickers = []\n",
    "\n",
    "        try:\n",
    "            for index, row in enumerate(table.findAll('tr')[1:]):\n",
    "                if index >= self.n_tickers:\n",
    "                    break\n",
    "                ticker = row.findAll('td')[0].text.strip()\n",
    "                tickers.append(ticker)\n",
    "        except:\n",
    "            return None\n",
    "\n",
    "        return pd.Series(tickers)"
   ]
  },
  {
   "cell_type": "code",
   "execution_count": 54,
   "metadata": {},
   "outputs": [],
   "source": [
    "sp100 = SP100TickerGetter()"
   ]
  },
  {
   "cell_type": "code",
   "execution_count": 55,
   "metadata": {},
   "outputs": [
    {
     "name": "stderr",
     "output_type": "stream",
     "text": [
      "/home/cdminix/anaconda3/lib/python3.7/site-packages/ipykernel_launcher.py:19: DeprecationWarning: The default dtype for empty Series will be 'object' instead of 'float64' in a future version. Specify a dtype explicitly to silence this warning.\n"
     ]
    },
    {
     "data": {
      "text/plain": [
       "0        AA\n",
       "1      AAPL\n",
       "2       ABT\n",
       "3       AEP\n",
       "4       ALL\n",
       "       ... \n",
       "96      WMB\n",
       "97      WMT\n",
       "98       WY\n",
       "99      XOM\n",
       "100     XRX\n",
       "Length: 101, dtype: object"
      ]
     },
     "execution_count": 55,
     "metadata": {},
     "output_type": "execute_result"
    }
   ],
   "source": [
    "sp100.get_tickers(date(2010,1,1))"
   ]
  },
  {
   "cell_type": "code",
   "execution_count": 28,
   "metadata": {},
   "outputs": [],
   "source": [
    "from urllib.parse import urlencode\n",
    "from simple_back.price_providers import DailyDataProvider\n",
    "from abc import abstractmethod\n",
    "from datetime import date, datetime\n",
    "from bs4 import BeautifulSoup\n",
    "import pandas as pd\n",
    "import requests\n",
    "\n",
    "\n",
    "class WikipediaProvider(DailyDataProvider):\n",
    "    @property\n",
    "    def columns(self):\n",
    "        return [\"tickers\"]\n",
    "\n",
    "    @property\n",
    "    def columns_order(self):\n",
    "        return [0]\n",
    "\n",
    "    def get(\n",
    "        self, symbol: str, date: date, event: str\n",
    "    ) -> pd.DataFrame:\n",
    "        title = urlencode({'title':symbol})\n",
    "        hist_url = f\"https://en.wikipedia.org/w/index.php?{title}&offset=&limit=500&action=history\"\n",
    "        response = requests.get(hist_url)\n",
    "        response = BeautifulSoup(response.text, 'html.parser')        \n",
    "        links = response.findAll('a', {'class': 'mw-changeslist-date'})\n",
    "        dates = pd.Series(dtype='str')\n",
    "        for link in links:\n",
    "            dates[datetime.strptime(link.text, \"%H:%M, %d %B %Y\").date()] = link[\"href\"]\n",
    "        if type(date) == slice:\n",
    "            date = date.stop\n",
    "        pivot = date\n",
    "        list_for_min = [_date for _date in dates.index if _date < pivot]\n",
    "        nearest_in_past = min(list_for_min, key=lambda x: abs(x - pivot))\n",
    "        url = \"https://en.wikipedia.org/\"+dates[nearest_in_past]\n",
    "        if self.in_cache(url):\n",
    "            html = self.get_cache(url)\n",
    "        else:\n",
    "            html = requests.get(url).text\n",
    "            self.set_cache(url, html)\n",
    "        return self.get_from_html(html, title)\n",
    "        \n",
    "    @abstractmethod\n",
    "    def get_from_html(self, html):\n",
    "        pass"
   ]
  },
  {
   "cell_type": "code",
   "execution_count": 29,
   "metadata": {},
   "outputs": [],
   "source": [
    "class SpProvider(WikipediaProvider):\n",
    "    def get_from_html(self, html, title):\n",
    "        bs_object = BeautifulSoup(html, 'html.parser')\n",
    "        if title == 'S&P_100':\n",
    "            table = bs_object.find('table', {'class': 'wikitable sortable'})\n",
    "        if title == 'S&P_500':\n",
    "            table = bs_object.find({'id':\"constituents\"})\n",
    "        tickers = []\n",
    "        try:\n",
    "            for row in table.findAll('tr')[1:]:\n",
    "                ticker = row.findAll('td')[0].text.strip()\n",
    "                tickers.append(ticker)\n",
    "        except:\n",
    "            return None\n",
    "        return pd.Series(tickers, dtype='str')"
   ]
  },
  {
   "cell_type": "code",
   "execution_count": 30,
   "metadata": {},
   "outputs": [],
   "source": [
    "sp = SpProvider()"
   ]
  },
  {
   "cell_type": "code",
   "execution_count": 32,
   "metadata": {},
   "outputs": [],
   "source": [
    "sp['S&P_500']"
   ]
  },
  {
   "cell_type": "code",
   "execution_count": null,
   "metadata": {},
   "outputs": [],
   "source": [
    "sp.clear_cache()"
   ]
  },
  {
   "cell_type": "code",
   "execution_count": null,
   "metadata": {},
   "outputs": [],
   "source": []
  }
 ],
 "metadata": {
  "kernelspec": {
   "display_name": "Python 3",
   "language": "python",
   "name": "python3"
  },
  "language_info": {
   "codemirror_mode": {
    "name": "ipython",
    "version": 3
   },
   "file_extension": ".py",
   "mimetype": "text/x-python",
   "name": "python",
   "nbconvert_exporter": "python",
   "pygments_lexer": "ipython3",
   "version": "3.7.6"
  }
 },
 "nbformat": 4,
 "nbformat_minor": 4
}
