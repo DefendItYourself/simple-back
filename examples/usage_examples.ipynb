{
 "cells": [
  {
   "cell_type": "markdown",
   "metadata": {},
   "source": [
    "# Backtesting\n",
    "### Price\n",
    "Use ``price`` to get the current price of a symbol. Given a number, it will go back that amount of days, which can be used to compute averages, etc.\n",
    "### Available Capital & Capital\n",
    "While ``capital`` is the current value of your portfolio + cash, ``available_capital`` is capital not tied up in securities only.\n",
    "### Order\n",
    "Use ``order`` to enter a long trade of the given ticker, using the given funds (either use an absolute number or a percentage when passing ``as_percent=True``). To enter a short position, pass ``short=True``.\n",
    "### Portfolio\n",
    "``portfolio`` is a dataframe that contains information about all currently held positions.\n",
    "### Liquidate\n",
    "Use ``liquidate`` to get out of positions. Simply pass a filter for ``portfolio`` and all entries matching it will be liquidated."
   ]
  },
  {
   "cell_type": "code",
   "execution_count": 1,
   "metadata": {},
   "outputs": [],
   "source": [
    "from simple_back.backtester import BacktesterBuilder\n",
    "from datetime import date\n",
    "from dateutil.relativedelta import relativedelta\n",
    "from tqdm.auto import tqdm\n",
    "import numpy as np\n",
    "import pandas as pd"
   ]
  },
  {
   "cell_type": "markdown",
   "metadata": {},
   "source": [
    "## Iterator\n",
    "The backtester object can be iterated over to run simple strategies.\n",
    "It exposes ``day`` (e.g. 2010-01-01), ``event`` ('open' or 'close') and itself."
   ]
  },
  {
   "cell_type": "code",
   "execution_count": 2,
   "metadata": {},
   "outputs": [],
   "source": [
    "ticker = 'QQQ'\n",
    "bt = BacktesterBuilder().balance(1_000_000).calendar('NYSE').build()\n",
    "\n",
    "for day, event, b in bt['2011-06-01':'2012-04-02']:\n",
    "    # calculate average price of the ticker over the last 30 days\n",
    "    avg_open = b.prices[ticker,-30:]['open'].mean()\n",
    "    \n",
    "    if day == date(2011,6,1) and event == 'open':\n",
    "        b.order_abs('ETR', b.price('ETR')*261)\n",
    "        \n",
    "    if day == date(2011,10,3) and event == 'open':\n",
    "        b.order_abs('ETR', b.price('ETR')*86.1)"
   ]
  },
  {
   "cell_type": "code",
   "execution_count": 3,
   "metadata": {},
   "outputs": [
    {
     "data": {
      "text/plain": [
       "  symbol        date event order_type  profit_loss_abs  profit_loss_pct  \\\n",
       "0    ETR  2011-06-01  open       long       354.277458         0.029939   \n",
       "\n",
       "       price  \n",
       "0  46.695461  "
      ]
     },
     "execution_count": 3,
     "metadata": {},
     "output_type": "execute_result"
    }
   ],
   "source": [
    "bt.portfolio[bt.pf['profit_loss_pct'] <= 0.03]"
   ]
  },
  {
   "cell_type": "code",
   "execution_count": 3,
   "metadata": {},
   "outputs": [
    {
     "name": "stdout",
     "output_type": "stream",
     "text": [
      "Max Drawdown         -19230.84      -16194.39      \n",
      "Annual Return        1.09           1.07           \n",
      "Portfolio Value      282302.96      237728.81      \n",
      "Total Value          289705.08      246214.42      \n",
      "Profit/Loss          1708.12        1438.42        \n"
     ]
    }
   ],
   "source": [
    "ticker = '^GSPC'\n",
    "\n",
    "class Monthly:\n",
    "    def __init__(self):\n",
    "        self.last_month = None\n",
    "        \n",
    "    def __call__(self, day, event, bt):\n",
    "        if day.month != self.last_month:\n",
    "            self.last_month = day.month\n",
    "            try:\n",
    "                bt.order_abs(ticker, bt.balance.start / 12)\n",
    "            except Exception as e:\n",
    "                pass\n",
    "            \n",
    "class NDayLow:\n",
    "    def __init__(self, n_days):\n",
    "        self.n_days=n_days\n",
    "        self.n_days_since=None\n",
    "        \n",
    "    def __call__(self, day, event, bt):\n",
    "        if event == 'open':\n",
    "            if self.n_days_since is not None:\n",
    "                self.n_days_since += 1\n",
    "        if (bt.price(ticker)<bt.prices[ticker,-(self.n_days+1):-1]).all().all():\n",
    "            try:\n",
    "                if self.n_days_since is None or self.n_days_since > 30:\n",
    "                    bt.order_abs(ticker, bt.balance.start / 12)\n",
    "                    self.n_days_since = 0\n",
    "            except:\n",
    "                pass\n",
    "        \n",
    "bt = BacktesterBuilder().balance(12_0000).calendar('NYSE').live_metrics().build()\n",
    "bts = bt[-relativedelta(years=10):].run([Monthly(),NDayLow(50)])"
   ]
  },
  {
   "cell_type": "code",
   "execution_count": 10,
   "metadata": {},
   "outputs": [
    {
     "data": {
      "text/html": [
       "<div>\n",
       "<style scoped>\n",
       "    .dataframe tbody tr th:only-of-type {\n",
       "        vertical-align: middle;\n",
       "    }\n",
       "\n",
       "    .dataframe tbody tr th {\n",
       "        vertical-align: top;\n",
       "    }\n",
       "\n",
       "    .dataframe thead th {\n",
       "        text-align: right;\n",
       "    }\n",
       "</style>\n",
       "<table border=\"1\" class=\"dataframe\">\n",
       "  <thead>\n",
       "    <tr style=\"text-align: right;\">\n",
       "      <th></th>\n",
       "      <th>open</th>\n",
       "      <th>close</th>\n",
       "    </tr>\n",
       "    <tr>\n",
       "      <th>date</th>\n",
       "      <th></th>\n",
       "      <th></th>\n",
       "    </tr>\n",
       "  </thead>\n",
       "  <tbody>\n",
       "    <tr>\n",
       "      <th>2017-05-30</th>\n",
       "      <td>0.000000</td>\n",
       "      <td>964.232697</td>\n",
       "    </tr>\n",
       "    <tr>\n",
       "      <th>2017-05-31</th>\n",
       "      <td>967.643812</td>\n",
       "      <td>963.891647</td>\n",
       "    </tr>\n",
       "    <tr>\n",
       "      <th>2017-06-01</th>\n",
       "      <td>965.869913</td>\n",
       "      <td>967.643616</td>\n",
       "    </tr>\n",
       "    <tr>\n",
       "      <th>2017-06-02</th>\n",
       "      <td>971.054817</td>\n",
       "      <td>978.695618</td>\n",
       "    </tr>\n",
       "    <tr>\n",
       "      <th>2017-06-05</th>\n",
       "      <td>978.627331</td>\n",
       "      <td>978.490860</td>\n",
       "    </tr>\n",
       "    <tr>\n",
       "      <th>...</th>\n",
       "      <td>...</td>\n",
       "      <td>...</td>\n",
       "    </tr>\n",
       "    <tr>\n",
       "      <th>2020-05-22</th>\n",
       "      <td>1599.149979</td>\n",
       "      <td>1607.620026</td>\n",
       "    </tr>\n",
       "    <tr>\n",
       "      <th>2020-05-26</th>\n",
       "      <td>1633.520004</td>\n",
       "      <td>1603.279953</td>\n",
       "    </tr>\n",
       "    <tr>\n",
       "      <th>2020-05-27</th>\n",
       "      <td>1600.830017</td>\n",
       "      <td>1612.029953</td>\n",
       "    </tr>\n",
       "    <tr>\n",
       "      <th>2020-05-28</th>\n",
       "      <td>1603.770004</td>\n",
       "      <td>1609.930038</td>\n",
       "    </tr>\n",
       "    <tr>\n",
       "      <th>2020-05-29</th>\n",
       "      <td>1612.660034</td>\n",
       "      <td>1633.520004</td>\n",
       "    </tr>\n",
       "  </tbody>\n",
       "</table>\n",
       "<p>756 rows × 2 columns</p>\n",
       "</div>"
      ],
      "text/plain": [
       "                   open        close\n",
       "date                                \n",
       "2017-05-30     0.000000   964.232697\n",
       "2017-05-31   967.643812   963.891647\n",
       "2017-06-01   965.869913   967.643616\n",
       "2017-06-02   971.054817   978.695618\n",
       "2017-06-05   978.627331   978.490860\n",
       "...                 ...          ...\n",
       "2020-05-22  1599.149979  1607.620026\n",
       "2020-05-26  1633.520004  1603.279953\n",
       "2020-05-27  1600.830017  1612.029953\n",
       "2020-05-28  1603.770004  1609.930038\n",
       "2020-05-29  1612.660034  1633.520004\n",
       "\n",
       "[756 rows x 2 columns]"
      ]
     },
     "execution_count": 10,
     "metadata": {},
     "output_type": "execute_result"
    }
   ],
   "source": [
    "bts[1].metrics['Portfolio Value'].df"
   ]
  },
  {
   "cell_type": "code",
   "execution_count": 8,
   "metadata": {},
   "outputs": [
    {
     "data": {
      "text/plain": [
       "[<matplotlib.lines.Line2D at 0x7f8565e44dd0>]"
      ]
     },
     "execution_count": 8,
     "metadata": {},
     "output_type": "execute_result"
    },
    {
     "data": {
      "image/png": "[encoded data removed]",
      "text/plain": [
       "<Figure size 432x288 with 1 Axes>"
      ]
     },
     "metadata": {
      "needs_background": "light"
     },
     "output_type": "display_data"
    }
   ],
   "source": [
    "plt.plot(bt.metrics['Total Value'].df['open'])"
   ]
  },
  {
   "cell_type": "code",
   "execution_count": 5,
   "metadata": {},
   "outputs": [
    {
     "data": {
      "text/plain": [
       "<matplotlib.axes._subplots.AxesSubplot at 0x7f2de2f7fa10>"
      ]
     },
     "execution_count": 5,
     "metadata": {},
     "output_type": "execute_result"
    },
    {
     "data": {
      "image/png": "[encoded data removed]",
      "text/plain": [
       "<Figure size 432x288 with 1 Axes>"
      ]
     },
     "metadata": {
      "needs_background": "light"
     },
     "output_type": "display_data"
    }
   ],
   "source": [
    "bt.metrics['Profit/Loss'].df.sum(axis=1).plot()"
   ]
  }
 ],
 "metadata": {
  "kernelspec": {
   "display_name": "Python 3",
   "language": "python",
   "name": "python3"
  },
  "language_info": {
   "codemirror_mode": {
    "name": "ipython",
    "version": 3
   },
   "file_extension": ".py",
   "mimetype": "text/x-python",
   "name": "python",
   "nbconvert_exporter": "python",
   "pygments_lexer": "ipython3",
   "version": "3.7.6"
  }
 },
 "nbformat": 4,
 "nbformat_minor": 4
}
