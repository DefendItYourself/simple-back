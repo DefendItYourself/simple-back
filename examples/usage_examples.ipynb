{
 "cells": [
  {
   "cell_type": "markdown",
   "metadata": {},
   "source": [
    "# Using Price Providers"
   ]
  },
  {
   "cell_type": "code",
   "execution_count": 1,
   "metadata": {},
   "outputs": [],
   "source": [
    "from simple_back import price_providers"
   ]
  },
  {
   "cell_type": "code",
   "execution_count": 2,
   "metadata": {},
   "outputs": [],
   "source": [
    "prices = price_providers.YahooFinanceProvider()"
   ]
  },
  {
   "cell_type": "code",
   "execution_count": 3,
   "metadata": {},
   "outputs": [
    {
     "data": {
      "text/plain": [
       "101.82906658545272"
      ]
     },
     "execution_count": 3,
     "metadata": {},
     "output_type": "execute_result"
    }
   ],
   "source": [
    "prices['AAPL','2015-1-2','open']"
   ]
  },
  {
   "cell_type": "code",
   "execution_count": 4,
   "metadata": {},
   "outputs": [
    {
     "data": {
      "text/plain": [
       "1980-12-12    0.405683\n",
       "1980-12-15    0.386281\n",
       "1980-12-16    0.358060\n",
       "1980-12-17    0.365115\n",
       "1980-12-18    0.375698\n",
       "dtype: float64"
      ]
     },
     "execution_count": 4,
     "metadata": {},
     "output_type": "execute_result"
    }
   ],
   "source": [
    "prices['AAPL',:,'open'][:5]"
   ]
  },
  {
   "cell_type": "code",
   "execution_count": 5,
   "metadata": {},
   "outputs": [
    {
     "data": {
      "text/html": [
       "<div>\n",
       "<style scoped>\n",
       "    .dataframe tbody tr th:only-of-type {\n",
       "        vertical-align: middle;\n",
       "    }\n",
       "\n",
       "    .dataframe tbody tr th {\n",
       "        vertical-align: top;\n",
       "    }\n",
       "\n",
       "    .dataframe thead th {\n",
       "        text-align: right;\n",
       "    }\n",
       "</style>\n",
       "<table border=\"1\" class=\"dataframe\">\n",
       "  <thead>\n",
       "    <tr style=\"text-align: right;\">\n",
       "      <th></th>\n",
       "      <th>open</th>\n",
       "      <th>high</th>\n",
       "      <th>low</th>\n",
       "      <th>close</th>\n",
       "      <th>adjclose</th>\n",
       "      <th>volume</th>\n",
       "      <th>ticker</th>\n",
       "    </tr>\n",
       "  </thead>\n",
       "  <tbody>\n",
       "    <tr>\n",
       "      <th>1980-12-12</th>\n",
       "      <td>0.513393</td>\n",
       "      <td>0.515625</td>\n",
       "      <td>0.513393</td>\n",
       "      <td>0.513393</td>\n",
       "      <td>0.405683</td>\n",
       "      <td>117258400.0</td>\n",
       "      <td>AAPL</td>\n",
       "    </tr>\n",
       "    <tr>\n",
       "      <th>1980-12-15</th>\n",
       "      <td>0.488839</td>\n",
       "      <td>0.488839</td>\n",
       "      <td>0.486607</td>\n",
       "      <td>0.486607</td>\n",
       "      <td>0.384517</td>\n",
       "      <td>43971200.0</td>\n",
       "      <td>AAPL</td>\n",
       "    </tr>\n",
       "    <tr>\n",
       "      <th>1980-12-16</th>\n",
       "      <td>0.453125</td>\n",
       "      <td>0.453125</td>\n",
       "      <td>0.450893</td>\n",
       "      <td>0.450893</td>\n",
       "      <td>0.356296</td>\n",
       "      <td>26432000.0</td>\n",
       "      <td>AAPL</td>\n",
       "    </tr>\n",
       "    <tr>\n",
       "      <th>1980-12-17</th>\n",
       "      <td>0.462054</td>\n",
       "      <td>0.464286</td>\n",
       "      <td>0.462054</td>\n",
       "      <td>0.462054</td>\n",
       "      <td>0.365115</td>\n",
       "      <td>21610400.0</td>\n",
       "      <td>AAPL</td>\n",
       "    </tr>\n",
       "    <tr>\n",
       "      <th>1980-12-18</th>\n",
       "      <td>0.475446</td>\n",
       "      <td>0.477679</td>\n",
       "      <td>0.475446</td>\n",
       "      <td>0.475446</td>\n",
       "      <td>0.375698</td>\n",
       "      <td>18362400.0</td>\n",
       "      <td>AAPL</td>\n",
       "    </tr>\n",
       "  </tbody>\n",
       "</table>\n",
       "</div>"
      ],
      "text/plain": [
       "                open      high       low     close  adjclose       volume  \\\n",
       "1980-12-12  0.513393  0.515625  0.513393  0.513393  0.405683  117258400.0   \n",
       "1980-12-15  0.488839  0.488839  0.486607  0.486607  0.384517   43971200.0   \n",
       "1980-12-16  0.453125  0.453125  0.450893  0.450893  0.356296   26432000.0   \n",
       "1980-12-17  0.462054  0.464286  0.462054  0.462054  0.365115   21610400.0   \n",
       "1980-12-18  0.475446  0.477679  0.475446  0.475446  0.375698   18362400.0   \n",
       "\n",
       "           ticker  \n",
       "1980-12-12   AAPL  \n",
       "1980-12-15   AAPL  \n",
       "1980-12-16   AAPL  \n",
       "1980-12-17   AAPL  \n",
       "1980-12-18   AAPL  "
      ]
     },
     "execution_count": 5,
     "metadata": {},
     "output_type": "execute_result"
    }
   ],
   "source": [
    "prices['AAPL'][:5]"
   ]
  },
  {
   "cell_type": "markdown",
   "metadata": {},
   "source": [
    "# Backtesting\n",
    "### Price\n",
    "Use ``price`` to get the current price of a symbol. Given a number, it will go back that amount of days, which can be used to compute averages, etc.\n",
    "### Available Capital & Capital\n",
    "While ``capital`` is the current value of your portfolio + cash, ``available_capital`` is capital not tied up in securities only.\n",
    "### Order\n",
    "Use ``order`` to enter a long trade of the given ticker, using the given funds (either use an absolute number or a percentage when passing ``as_percent=True``). To enter a short position, pass ``short=True``.\n",
    "### Portfolio\n",
    "``portfolio`` is a dataframe that contains information about all currently held positions.\n",
    "### Liquidate\n",
    "Use ``liquidate`` to get out of positions. Simply pass a filter for ``portfolio`` and all entries matching it will be liquidated."
   ]
  },
  {
   "cell_type": "code",
   "execution_count": 6,
   "metadata": {},
   "outputs": [],
   "source": [
    "from simple_back.backtester import Backtester\n",
    "from datetime import date\n",
    "from dateutil.relativedelta import relativedelta\n",
    "from tqdm.auto import tqdm"
   ]
  },
  {
   "cell_type": "markdown",
   "metadata": {},
   "source": [
    "## Iterator\n",
    "The backtester object can be iterated over to run simple strategies.\n",
    "It exposes ``day`` (e.g. 2010-01-01), ``event`` ('open' or 'close') and itself."
   ]
  },
  {
   "cell_type": "code",
   "execution_count": 7,
   "metadata": {},
   "outputs": [
    {
     "data": {
      "application/vnd.jupyter.widget-view+json": {
       "model_id": "6db1ab9c74eb4444919e8c496ed4270c",
       "version_major": 2,
       "version_minor": 0
      },
      "text/plain": [
       "HBox(children=(FloatProgress(value=0.0, max=687.0), HTML(value='')))"
      ]
     },
     "metadata": {},
     "output_type": "display_data"
    },
    {
     "name": "stdout",
     "output_type": "stream",
     "text": [
      "\n"
     ]
    }
   ],
   "source": [
    "bt = Backtester(10_000, prices, market_calendar='NYSE', start_date='2019-1-1', end_date=date.today()-relativedelta(weeks=1))\n",
    "ticker = 'QQQ'\n",
    "for day, event, b in tqdm(bt):\n",
    "    # calculate average price of the ticker over the last 30 days\n",
    "    avg = b.price(ticker,30).mean()\n",
    "    # liquidate all positions with the ticker symbol\n",
    "    b.liquidate(b.portfolio['symbol']==ticker)\n",
    "    # enter long position if the price is higher than the mean of the last 30 days\n",
    "    if b.price(ticker) > avg:\n",
    "        b.order(ticker, 1, as_percent=True)\n",
    "    # do the opposite if the price is lower\n",
    "    if b.price(ticker) < avg:\n",
    "        b.order(ticker, b.available_capital, short=True)"
   ]
  },
  {
   "cell_type": "markdown",
   "metadata": {},
   "source": [
    "## Plotting"
   ]
  },
  {
   "cell_type": "code",
   "execution_count": 8,
   "metadata": {},
   "outputs": [],
   "source": [
    "import matplotlib.pyplot as plt"
   ]
  },
  {
   "cell_type": "markdown",
   "metadata": {},
   "source": [
    "### Values\n",
    "``values`` tracks the value of the backtest over time."
   ]
  },
  {
   "cell_type": "code",
   "execution_count": 9,
   "metadata": {},
   "outputs": [
    {
     "data": {
      "image/png": "[encoded data removed]",
      "text/plain": [
       "<Figure size 432x288 with 1 Axes>"
      ]
     },
     "metadata": {
      "needs_background": "light"
     },
     "output_type": "display_data"
    }
   ],
   "source": [
    "bt.values.plot()\n",
    "plt.show()"
   ]
  },
  {
   "cell_type": "markdown",
   "metadata": {},
   "source": [
    "### Compare\n",
    "``compare`` constructs a dataframe which combines ``values`` with the returns of one or more other securities.\n",
    "\n",
    "E.g. ``bt.compare(['AAPL','MSFT'])`` compares our backtest's returns with the returns had we invested in Microsoft or Apple instead."
   ]
  },
  {
   "cell_type": "code",
   "execution_count": 10,
   "metadata": {},
   "outputs": [
    {
     "data": {
      "image/png": "[encoded data removed]",
      "text/plain": [
       "<Figure size 432x288 with 1 Axes>"
      ]
     },
     "metadata": {
      "needs_background": "light"
     },
     "output_type": "display_data"
    }
   ],
   "source": [
    "bt.compare(['QQQ','^GSPC']).plot()\n",
    "plt.show()"
   ]
  },
  {
   "cell_type": "code",
   "execution_count": 11,
   "metadata": {},
   "outputs": [],
   "source": [
    "import seaborn as sns"
   ]
  },
  {
   "cell_type": "markdown",
   "metadata": {},
   "source": [
    "### Profit Loss\n",
    "``profit_loss`` contains daily profit loss values."
   ]
  },
  {
   "cell_type": "code",
   "execution_count": 12,
   "metadata": {},
   "outputs": [
    {
     "data": {
      "image/png": "[encoded data removed]",
      "text/plain": [
       "<Figure size 432x288 with 1 Axes>"
      ]
     },
     "metadata": {
      "needs_background": "light"
     },
     "output_type": "display_data"
    }
   ],
   "source": [
    "sns.boxplot(bt.profit_loss)\n",
    "plt.show()"
   ]
  },
  {
   "cell_type": "markdown",
   "metadata": {},
   "source": [
    "### Compare Profit Loss\n",
    "To compare the profit and loss of different securities with our backtest, use ``compare_pl``."
   ]
  },
  {
   "cell_type": "code",
   "execution_count": 13,
   "metadata": {},
   "outputs": [
    {
     "data": {
      "image/png": "[encoded data removed]",
      "text/plain": [
       "<Figure size 432x288 with 1 Axes>"
      ]
     },
     "metadata": {
      "needs_background": "light"
     },
     "output_type": "display_data"
    }
   ],
   "source": [
    "plt.boxplot(bt.compare_pl(['QQQ','^GSPC']), labels=['Backtest', 'QQQ', '^GSPC'])\n",
    "plt.show()"
   ]
  },
  {
   "cell_type": "markdown",
   "metadata": {},
   "source": [
    "## Strategy Class\n",
    "If you want to write more involved strategies that can't operate in a stateless way, you can use the ``Strategy`` class. Below is the exact same strategy as shown before, but implemented using said class. The only methods that need to be implemented are ``open`` and ``close``.\n",
    "### Advantages\n",
    "This class does not only track state, it can also take advantage of multiprocessing for faster results.\n",
    "If you use multiprocessing, be aware that this means that several copies of your strategy will be created, which do not have access to variables in other strategy objects."
   ]
  },
  {
   "cell_type": "code",
   "execution_count": 14,
   "metadata": {},
   "outputs": [],
   "source": [
    "from simple_back.backtester import Strategy"
   ]
  },
  {
   "cell_type": "code",
   "execution_count": 15,
   "metadata": {},
   "outputs": [],
   "source": [
    "class MyStrategy(Strategy):\n",
    "    \n",
    "    def __init__(self, ticker):\n",
    "        self.ticker = ticker\n",
    "        super().__init__()\n",
    "        \n",
    "    def open_close(self, day, b):\n",
    "        # calculate average price of the ticker over the last 30 days\n",
    "        avg = b.price(ticker,30).mean()\n",
    "        \n",
    "        # liquidate all positions with the ticker symbol\n",
    "        b.liquidate(b.portfolio['symbol']==ticker)\n",
    "        \n",
    "        # enter long position if the price is higher than the mean of the last 30 days\n",
    "        if b.price(ticker) > avg:\n",
    "            b.order(ticker, 1, as_percent=True)\n",
    "        \n",
    "        # do the opposite if the price is lower\n",
    "        if b.price(ticker) < avg:\n",
    "            b.order(ticker, b.available_capital, short=True)\n",
    "        \n",
    "    def close(self, day, bt):\n",
    "        pass\n",
    "    \n",
    "    def open(self, day, bt):\n",
    "        pass"
   ]
  },
  {
   "cell_type": "code",
   "execution_count": 16,
   "metadata": {},
   "outputs": [],
   "source": [
    "my_strategy = MyStrategy('QQQ')"
   ]
  },
  {
   "cell_type": "markdown",
   "metadata": {},
   "source": [
    "## Running the Strategy\n",
    "To use your strategy, create a new Backtester with your strategy, and the run it using ``bt.run()``. To set the number of workers, pass ``num_workers``."
   ]
  },
  {
   "cell_type": "code",
   "execution_count": 17,
   "metadata": {},
   "outputs": [],
   "source": [
    "old_values = bt.values.copy()"
   ]
  },
  {
   "cell_type": "code",
   "execution_count": 18,
   "metadata": {},
   "outputs": [],
   "source": [
    "bt = Backtester(\n",
    "    10_000,\n",
    "    prices,\n",
    "    market_calendar='NYSE',\n",
    "    start_date='2019-1-1',\n",
    "    end_date=date.today()-relativedelta(weeks=1),\n",
    "    strategy=my_strategy\n",
    ")"
   ]
  },
  {
   "cell_type": "code",
   "execution_count": 19,
   "metadata": {},
   "outputs": [],
   "source": [
    "bt.run()"
   ]
  },
  {
   "cell_type": "markdown",
   "metadata": {},
   "source": [
    "### Why Multiprocessing results in slightly inaccurate Backtests\n",
    "Multiprocessing slices the date range the backtest is run over into slices and joins those slices together at the end. Because we cannot know in advance what the end result of each slice will be, we have to assume the same start value for all slices, which can result in slightly different results. The lower the start capital and the higher security prices, the more significant these errors will be."
   ]
  },
  {
   "cell_type": "code",
   "execution_count": 20,
   "metadata": {},
   "outputs": [
    {
     "data": {
      "image/png": "[encoded data removed]",
      "text/plain": [
       "<Figure size 432x288 with 1 Axes>"
      ]
     },
     "metadata": {
      "needs_background": "light"
     },
     "output_type": "display_data"
    }
   ],
   "source": [
    "mult = bt.values.rename(columns={'Backtest':'Multiprocessing'})\n",
    "no_mult = old_values.rename(columns={'Backtest':'No Multiprocessing'})\n",
    "plt.plot(mult.index, mult, no_mult.index, no_mult)\n",
    "plt.show()"
   ]
  },
  {
   "cell_type": "code",
   "execution_count": 21,
   "metadata": {},
   "outputs": [
    {
     "data": {
      "text/plain": [
       "(Multiprocessing    15571.531672\n",
       " Name: 2020-05-13 00:00:00, dtype: float64,\n",
       " No Multiprocessing    15542.090184\n",
       " Name: 2020-05-13 00:00:00, dtype: float64)"
      ]
     },
     "execution_count": 21,
     "metadata": {},
     "output_type": "execute_result"
    }
   ],
   "source": [
    "mult.iloc[-1], no_mult.iloc[-1]"
   ]
  },
  {
   "cell_type": "markdown",
   "metadata": {},
   "source": [
    "### Multiprocessing Speedup\n",
    "Use the cell below to evaluate how much multiprocessing speeds up things on your machine."
   ]
  },
  {
   "cell_type": "code",
   "execution_count": 22,
   "metadata": {},
   "outputs": [],
   "source": [
    "from time import time"
   ]
  },
  {
   "cell_type": "code",
   "execution_count": 23,
   "metadata": {},
   "outputs": [
    {
     "data": {
      "text/plain": [
       "'51.77 seconds'"
      ]
     },
     "execution_count": 23,
     "metadata": {},
     "output_type": "execute_result"
    }
   ],
   "source": [
    "bt = Backtester(\n",
    "    10_000,\n",
    "    prices,\n",
    "    market_calendar='NYSE',\n",
    "    start_date='1999-4-1',\n",
    "    end_date=date.today()-relativedelta(weeks=1),\n",
    "    strategy=my_strategy\n",
    ")\n",
    "# with multiprocessing\n",
    "start = time()\n",
    "bt.run()\n",
    "end = time()\n",
    "f'{(end-start):.2f} seconds'"
   ]
  },
  {
   "cell_type": "code",
   "execution_count": 24,
   "metadata": {},
   "outputs": [
    {
     "data": {
      "text/plain": [
       "'114.89 seconds'"
      ]
     },
     "execution_count": 24,
     "metadata": {},
     "output_type": "execute_result"
    }
   ],
   "source": [
    "bt = Backtester(\n",
    "    10_000,\n",
    "    prices,\n",
    "    market_calendar='NYSE',\n",
    "    start_date='1999-4-1',\n",
    "    end_date=date.today()-relativedelta(weeks=1),\n",
    "    strategy=my_strategy\n",
    ")\n",
    "# without multiprocessing\n",
    "start = time()\n",
    "bt.run(0)\n",
    "end = time()\n",
    "f'{(end-start):.2f} seconds'"
   ]
  },
  {
   "cell_type": "markdown",
   "metadata": {},
   "source": [
    "# Custom DailyPriceProvider\n",
    "To use your own data points, you can implement your own ``DailyPriceProvider``.\n",
    "The following will show a price provider that simply returns random numbers and seeds them with the symbol name, which could definitely come in handy to make backtests more exiting and even less predictable."
   ]
  },
  {
   "cell_type": "code",
   "execution_count": 25,
   "metadata": {},
   "outputs": [],
   "source": [
    "from simple_back.price_providers import DailyPriceProvider\n",
    "import numpy as np\n",
    "import pandas as pd"
   ]
  },
  {
   "cell_type": "code",
   "execution_count": 26,
   "metadata": {},
   "outputs": [],
   "source": [
    "def str_to_int(s):\n",
    "    int.from_bytes(s.encode(), 'little')"
   ]
  },
  {
   "cell_type": "code",
   "execution_count": 27,
   "metadata": {},
   "outputs": [],
   "source": [
    "class RandomPriceProvider(DailyPriceProvider):\n",
    "    \n",
    "    def __init__(self):\n",
    "        self.symbols = {}\n",
    "        self.drange = pd.date_range('2019-1-1','2020-1-1')\n",
    "        super().__init__()\n",
    "        \n",
    "    def get_price(self, symbol, date=None, event=None):\n",
    "        if symbol not in self.symbols:\n",
    "            np.random.seed(str_to_int(symbol))\n",
    "            self.symbols[symbol] = (np.random.rand(len(self.drange)*2)-.5).cumsum()\n",
    "            self.symbols[symbol] = self.symbols[symbol]*100\n",
    "            self.symbols[symbol] = self.symbols[symbol]+abs(self.symbols[symbol].min())\n",
    "            self.symbols[symbol] = self.symbols[symbol]+np.random.randint(0,1_000)\n",
    "        df = pd.DataFrame()\n",
    "        df['date'] = self.drange\n",
    "        df['open'] = self.symbols[symbol][::2]\n",
    "        df['close'] = self.symbols[symbol][1::2]\n",
    "        df.set_index('date')\n",
    "        if date is not None:\n",
    "            entry = df.loc[date]\n",
    "        else:\n",
    "            entry = df\n",
    "        if event in ['open', 'close']:\n",
    "            return df[event]\n",
    "        if event is None:\n",
    "            return entry\n",
    "        raise Exception('event was neither \"open\" nor \"close\", but was still given')"
   ]
  },
  {
   "cell_type": "code",
   "execution_count": 28,
   "metadata": {},
   "outputs": [],
   "source": [
    "random_price = RandomPriceProvider()"
   ]
  },
  {
   "cell_type": "code",
   "execution_count": 29,
   "metadata": {},
   "outputs": [
    {
     "data": {
      "text/html": [
       "<div>\n",
       "<style scoped>\n",
       "    .dataframe tbody tr th:only-of-type {\n",
       "        vertical-align: middle;\n",
       "    }\n",
       "\n",
       "    .dataframe tbody tr th {\n",
       "        vertical-align: top;\n",
       "    }\n",
       "\n",
       "    .dataframe thead th {\n",
       "        text-align: right;\n",
       "    }\n",
       "</style>\n",
       "<table border=\"1\" class=\"dataframe\">\n",
       "  <thead>\n",
       "    <tr style=\"text-align: right;\">\n",
       "      <th></th>\n",
       "      <th>date</th>\n",
       "      <th>open</th>\n",
       "      <th>close</th>\n",
       "    </tr>\n",
       "  </thead>\n",
       "  <tbody>\n",
       "    <tr>\n",
       "      <th>0</th>\n",
       "      <td>2019-01-01</td>\n",
       "      <td>1590.396327</td>\n",
       "      <td>1573.171941</td>\n",
       "    </tr>\n",
       "    <tr>\n",
       "      <th>1</th>\n",
       "      <td>2019-01-02</td>\n",
       "      <td>1537.989683</td>\n",
       "      <td>1585.507610</td>\n",
       "    </tr>\n",
       "    <tr>\n",
       "      <th>2</th>\n",
       "      <td>2019-01-03</td>\n",
       "      <td>1546.182921</td>\n",
       "      <td>1582.160602</td>\n",
       "    </tr>\n",
       "    <tr>\n",
       "      <th>3</th>\n",
       "      <td>2019-01-04</td>\n",
       "      <td>1538.429181</td>\n",
       "      <td>1527.274502</td>\n",
       "    </tr>\n",
       "    <tr>\n",
       "      <th>4</th>\n",
       "      <td>2019-01-05</td>\n",
       "      <td>1558.385202</td>\n",
       "      <td>1591.129692</td>\n",
       "    </tr>\n",
       "  </tbody>\n",
       "</table>\n",
       "</div>"
      ],
      "text/plain": [
       "        date         open        close\n",
       "0 2019-01-01  1590.396327  1573.171941\n",
       "1 2019-01-02  1537.989683  1585.507610\n",
       "2 2019-01-03  1546.182921  1582.160602\n",
       "3 2019-01-04  1538.429181  1527.274502\n",
       "4 2019-01-05  1558.385202  1591.129692"
      ]
     },
     "execution_count": 29,
     "metadata": {},
     "output_type": "execute_result"
    }
   ],
   "source": [
    "random_price['AAPL'].head()"
   ]
  },
  {
   "cell_type": "code",
   "execution_count": 30,
   "metadata": {},
   "outputs": [
    {
     "data": {
      "image/png": "[encoded data removed]",
      "text/plain": [
       "<Figure size 432x288 with 1 Axes>"
      ]
     },
     "metadata": {
      "needs_background": "light"
     },
     "output_type": "display_data"
    }
   ],
   "source": [
    "random_price['AAPL',:,'open'].plot()\n",
    "plt.show()"
   ]
  }
 ],
 "metadata": {
  "kernelspec": {
   "display_name": "Python 3",
   "language": "python",
   "name": "python3"
  },
  "language_info": {
   "codemirror_mode": {
    "name": "ipython",
    "version": 3
   },
   "file_extension": ".py",
   "mimetype": "text/x-python",
   "name": "python",
   "nbconvert_exporter": "python",
   "pygments_lexer": "ipython3",
   "version": "3.7.6"
  }
 },
 "nbformat": 4,
 "nbformat_minor": 4
}
