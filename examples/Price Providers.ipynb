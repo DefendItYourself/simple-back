{
 "cells": [
  {
   "cell_type": "markdown",
   "metadata": {},
   "source": [
    "# Price Providers"
   ]
  },
  {
   "cell_type": "code",
   "execution_count": 1,
   "metadata": {},
   "outputs": [],
   "source": [
    "import pandas as pd\n",
    "import numpy as np\n",
    "from dateutil.relativedelta import relativedelta\n",
    "from datetime import date"
   ]
  },
  {
   "cell_type": "code",
   "execution_count": 2,
   "metadata": {},
   "outputs": [],
   "source": [
    "from simple_back.price_providers import YahooFinanceProvider, TimeLeakError"
   ]
  },
  {
   "cell_type": "code",
   "execution_count": 3,
   "metadata": {},
   "outputs": [],
   "source": [
    "price = YahooFinanceProvider()"
   ]
  },
  {
   "cell_type": "markdown",
   "metadata": {},
   "source": [
    "### Getting a symbol"
   ]
  },
  {
   "cell_type": "code",
   "execution_count": 4,
   "metadata": {
    "scrolled": true
   },
   "outputs": [
    {
     "data": {
      "text/html": [
       "<div>\n",
       "<style scoped>\n",
       "    .dataframe tbody tr th:only-of-type {\n",
       "        vertical-align: middle;\n",
       "    }\n",
       "\n",
       "    .dataframe tbody tr th {\n",
       "        vertical-align: top;\n",
       "    }\n",
       "\n",
       "    .dataframe thead th {\n",
       "        text-align: right;\n",
       "    }\n",
       "</style>\n",
       "<table border=\"1\" class=\"dataframe\">\n",
       "  <thead>\n",
       "    <tr style=\"text-align: right;\">\n",
       "      <th></th>\n",
       "      <th>open</th>\n",
       "      <th>close</th>\n",
       "      <th>high</th>\n",
       "      <th>low</th>\n",
       "    </tr>\n",
       "  </thead>\n",
       "  <tbody>\n",
       "    <tr>\n",
       "      <th>1980-12-12</th>\n",
       "      <td>0.405683</td>\n",
       "      <td>0.405683</td>\n",
       "      <td>0.407447</td>\n",
       "      <td>0.405683</td>\n",
       "    </tr>\n",
       "    <tr>\n",
       "      <th>1980-12-15</th>\n",
       "      <td>0.386281</td>\n",
       "      <td>0.384517</td>\n",
       "      <td>0.386281</td>\n",
       "      <td>0.384517</td>\n",
       "    </tr>\n",
       "    <tr>\n",
       "      <th>1980-12-16</th>\n",
       "      <td>0.358060</td>\n",
       "      <td>0.356296</td>\n",
       "      <td>0.358060</td>\n",
       "      <td>0.356296</td>\n",
       "    </tr>\n",
       "    <tr>\n",
       "      <th>1980-12-17</th>\n",
       "      <td>0.365115</td>\n",
       "      <td>0.365115</td>\n",
       "      <td>0.366879</td>\n",
       "      <td>0.365115</td>\n",
       "    </tr>\n",
       "    <tr>\n",
       "      <th>1980-12-18</th>\n",
       "      <td>0.375698</td>\n",
       "      <td>0.375698</td>\n",
       "      <td>0.377462</td>\n",
       "      <td>0.375698</td>\n",
       "    </tr>\n",
       "  </tbody>\n",
       "</table>\n",
       "</div>"
      ],
      "text/plain": [
       "                open     close      high       low\n",
       "1980-12-12  0.405683  0.405683  0.407447  0.405683\n",
       "1980-12-15  0.386281  0.384517  0.386281  0.384517\n",
       "1980-12-16  0.358060  0.356296  0.358060  0.356296\n",
       "1980-12-17  0.365115  0.365115  0.366879  0.365115\n",
       "1980-12-18  0.375698  0.375698  0.377462  0.375698"
      ]
     },
     "execution_count": 4,
     "metadata": {},
     "output_type": "execute_result"
    }
   ],
   "source": [
    "price['AAPL'].head()"
   ]
  },
  {
   "cell_type": "markdown",
   "metadata": {},
   "source": [
    "### Getting values at a specific day"
   ]
  },
  {
   "cell_type": "code",
   "execution_count": 5,
   "metadata": {
    "scrolled": true
   },
   "outputs": [
    {
     "data": {
      "text/plain": [
       "open     101.829\n",
       "close    99.9459\n",
       "high     101.875\n",
       "low      98.1358\n",
       "Name: 2015-01-02 00:00:00, dtype: object"
      ]
     },
     "execution_count": 5,
     "metadata": {},
     "output_type": "execute_result"
    }
   ],
   "source": [
    "price['AAPL','2015-1-2']"
   ]
  },
  {
   "cell_type": "markdown",
   "metadata": {},
   "source": [
    "### Using a date range"
   ]
  },
  {
   "cell_type": "code",
   "execution_count": 6,
   "metadata": {
    "scrolled": true
   },
   "outputs": [
    {
     "data": {
      "text/html": [
       "<div>\n",
       "<style scoped>\n",
       "    .dataframe tbody tr th:only-of-type {\n",
       "        vertical-align: middle;\n",
       "    }\n",
       "\n",
       "    .dataframe tbody tr th {\n",
       "        vertical-align: top;\n",
       "    }\n",
       "\n",
       "    .dataframe thead th {\n",
       "        text-align: right;\n",
       "    }\n",
       "</style>\n",
       "<table border=\"1\" class=\"dataframe\">\n",
       "  <thead>\n",
       "    <tr style=\"text-align: right;\">\n",
       "      <th></th>\n",
       "      <th>open</th>\n",
       "      <th>close</th>\n",
       "      <th>high</th>\n",
       "      <th>low</th>\n",
       "    </tr>\n",
       "  </thead>\n",
       "  <tbody>\n",
       "    <tr>\n",
       "      <th>2015-01-02</th>\n",
       "      <td>101.829067</td>\n",
       "      <td>99.945885</td>\n",
       "      <td>101.874778</td>\n",
       "      <td>98.135831</td>\n",
       "    </tr>\n",
       "    <tr>\n",
       "      <th>2015-01-05</th>\n",
       "      <td>98.995143</td>\n",
       "      <td>97.130241</td>\n",
       "      <td>99.324244</td>\n",
       "      <td>96.362344</td>\n",
       "    </tr>\n",
       "    <tr>\n",
       "      <th>2015-01-06</th>\n",
       "      <td>97.395385</td>\n",
       "      <td>97.139420</td>\n",
       "      <td>98.208994</td>\n",
       "      <td>95.649322</td>\n",
       "    </tr>\n",
       "    <tr>\n",
       "      <th>2015-01-07</th>\n",
       "      <td>97.998723</td>\n",
       "      <td>98.501518</td>\n",
       "      <td>98.912891</td>\n",
       "      <td>97.541640</td>\n",
       "    </tr>\n",
       "  </tbody>\n",
       "</table>\n",
       "</div>"
      ],
      "text/plain": [
       "                  open      close        high        low\n",
       "2015-01-02  101.829067  99.945885  101.874778  98.135831\n",
       "2015-01-05   98.995143  97.130241   99.324244  96.362344\n",
       "2015-01-06   97.395385  97.139420   98.208994  95.649322\n",
       "2015-01-07   97.998723  98.501518   98.912891  97.541640"
      ]
     },
     "execution_count": 6,
     "metadata": {},
     "output_type": "execute_result"
    }
   ],
   "source": [
    "price['AAPL','2015-1-2':'2015-1-7']"
   ]
  },
  {
   "cell_type": "markdown",
   "metadata": {},
   "source": [
    "### Using relativedelta"
   ]
  },
  {
   "cell_type": "code",
   "execution_count": 7,
   "metadata": {
    "scrolled": true
   },
   "outputs": [
    {
     "data": {
      "text/html": [
       "<div>\n",
       "<style scoped>\n",
       "    .dataframe tbody tr th:only-of-type {\n",
       "        vertical-align: middle;\n",
       "    }\n",
       "\n",
       "    .dataframe tbody tr th {\n",
       "        vertical-align: top;\n",
       "    }\n",
       "\n",
       "    .dataframe thead th {\n",
       "        text-align: right;\n",
       "    }\n",
       "</style>\n",
       "<table border=\"1\" class=\"dataframe\">\n",
       "  <thead>\n",
       "    <tr style=\"text-align: right;\">\n",
       "      <th></th>\n",
       "      <th>open</th>\n",
       "      <th>close</th>\n",
       "      <th>high</th>\n",
       "      <th>low</th>\n",
       "    </tr>\n",
       "  </thead>\n",
       "  <tbody>\n",
       "    <tr>\n",
       "      <th>2020-04-27</th>\n",
       "      <td>281.039221</td>\n",
       "      <td>282.405548</td>\n",
       "      <td>283.771845</td>\n",
       "      <td>279.194240</td>\n",
       "    </tr>\n",
       "    <tr>\n",
       "      <th>2020-04-28</th>\n",
       "      <td>284.310363</td>\n",
       "      <td>277.827911</td>\n",
       "      <td>285.058339</td>\n",
       "      <td>277.448963</td>\n",
       "    </tr>\n",
       "    <tr>\n",
       "      <th>2020-04-29</th>\n",
       "      <td>283.961346</td>\n",
       "      <td>286.953247</td>\n",
       "      <td>288.888012</td>\n",
       "      <td>283.123617</td>\n",
       "    </tr>\n",
       "    <tr>\n",
       "      <th>2020-04-30</th>\n",
       "      <td>289.177206</td>\n",
       "      <td>293.006836</td>\n",
       "      <td>293.734876</td>\n",
       "      <td>287.571567</td>\n",
       "    </tr>\n",
       "    <tr>\n",
       "      <th>2020-05-01</th>\n",
       "      <td>285.477218</td>\n",
       "      <td>288.289612</td>\n",
       "      <td>298.192797</td>\n",
       "      <td>285.078304</td>\n",
       "    </tr>\n",
       "  </tbody>\n",
       "</table>\n",
       "</div>"
      ],
      "text/plain": [
       "                  open       close        high         low\n",
       "2020-04-27  281.039221  282.405548  283.771845  279.194240\n",
       "2020-04-28  284.310363  277.827911  285.058339  277.448963\n",
       "2020-04-29  283.961346  286.953247  288.888012  283.123617\n",
       "2020-04-30  289.177206  293.006836  293.734876  287.571567\n",
       "2020-05-01  285.477218  288.289612  298.192797  285.078304"
      ]
     },
     "execution_count": 7,
     "metadata": {},
     "output_type": "execute_result"
    }
   ],
   "source": [
    "price['AAPL',relativedelta(months=1):].head()"
   ]
  },
  {
   "cell_type": "markdown",
   "metadata": {},
   "source": [
    "### Using day ints\n",
    "When a negative integer is used, this is interpreted as the number of days to go back."
   ]
  },
  {
   "cell_type": "code",
   "execution_count": 8,
   "metadata": {
    "scrolled": true
   },
   "outputs": [
    {
     "data": {
      "text/html": [
       "<div>\n",
       "<style scoped>\n",
       "    .dataframe tbody tr th:only-of-type {\n",
       "        vertical-align: middle;\n",
       "    }\n",
       "\n",
       "    .dataframe tbody tr th {\n",
       "        vertical-align: top;\n",
       "    }\n",
       "\n",
       "    .dataframe thead th {\n",
       "        text-align: right;\n",
       "    }\n",
       "</style>\n",
       "<table border=\"1\" class=\"dataframe\">\n",
       "  <thead>\n",
       "    <tr style=\"text-align: right;\">\n",
       "      <th></th>\n",
       "      <th>open</th>\n",
       "      <th>close</th>\n",
       "      <th>high</th>\n",
       "      <th>low</th>\n",
       "    </tr>\n",
       "  </thead>\n",
       "  <tbody>\n",
       "    <tr>\n",
       "      <th>2020-05-20</th>\n",
       "      <td>316.679993</td>\n",
       "      <td>319.230011</td>\n",
       "      <td>319.519989</td>\n",
       "      <td>316.519989</td>\n",
       "    </tr>\n",
       "    <tr>\n",
       "      <th>2020-05-21</th>\n",
       "      <td>318.660004</td>\n",
       "      <td>316.850006</td>\n",
       "      <td>320.890015</td>\n",
       "      <td>315.869995</td>\n",
       "    </tr>\n",
       "    <tr>\n",
       "      <th>2020-05-22</th>\n",
       "      <td>315.769989</td>\n",
       "      <td>318.890015</td>\n",
       "      <td>319.230011</td>\n",
       "      <td>315.350006</td>\n",
       "    </tr>\n",
       "    <tr>\n",
       "      <th>2020-05-26</th>\n",
       "      <td>323.500000</td>\n",
       "      <td>316.730011</td>\n",
       "      <td>324.239990</td>\n",
       "      <td>316.500000</td>\n",
       "    </tr>\n",
       "    <tr>\n",
       "      <th>2020-05-27</th>\n",
       "      <td>316.140015</td>\n",
       "      <td>316.174988</td>\n",
       "      <td>318.709991</td>\n",
       "      <td>315.170013</td>\n",
       "    </tr>\n",
       "  </tbody>\n",
       "</table>\n",
       "</div>"
      ],
      "text/plain": [
       "                  open       close        high         low\n",
       "2020-05-20  316.679993  319.230011  319.519989  316.519989\n",
       "2020-05-21  318.660004  316.850006  320.890015  315.869995\n",
       "2020-05-22  315.769989  318.890015  319.230011  315.350006\n",
       "2020-05-26  323.500000  316.730011  324.239990  316.500000\n",
       "2020-05-27  316.140015  316.174988  318.709991  315.170013"
      ]
     },
     "execution_count": 8,
     "metadata": {},
     "output_type": "execute_result"
    }
   ],
   "source": [
    "price['AAPL',-7:]"
   ]
  },
  {
   "cell_type": "markdown",
   "metadata": {},
   "source": [
    "Relativedeltas and integers work respective of the end date specified after `:` - If none is specified, the current date is used."
   ]
  },
  {
   "cell_type": "code",
   "execution_count": 9,
   "metadata": {
    "scrolled": true
   },
   "outputs": [
    {
     "data": {
      "text/html": [
       "<div>\n",
       "<style scoped>\n",
       "    .dataframe tbody tr th:only-of-type {\n",
       "        vertical-align: middle;\n",
       "    }\n",
       "\n",
       "    .dataframe tbody tr th {\n",
       "        vertical-align: top;\n",
       "    }\n",
       "\n",
       "    .dataframe thead th {\n",
       "        text-align: right;\n",
       "    }\n",
       "</style>\n",
       "<table border=\"1\" class=\"dataframe\">\n",
       "  <thead>\n",
       "    <tr style=\"text-align: right;\">\n",
       "      <th></th>\n",
       "      <th>open</th>\n",
       "      <th>close</th>\n",
       "      <th>high</th>\n",
       "      <th>low</th>\n",
       "    </tr>\n",
       "  </thead>\n",
       "  <tbody>\n",
       "    <tr>\n",
       "      <th>2014-12-26</th>\n",
       "      <td>102.478164</td>\n",
       "      <td>104.205940</td>\n",
       "      <td>104.690448</td>\n",
       "      <td>102.395893</td>\n",
       "    </tr>\n",
       "    <tr>\n",
       "      <th>2014-12-29</th>\n",
       "      <td>104.023095</td>\n",
       "      <td>104.132797</td>\n",
       "      <td>104.918975</td>\n",
       "      <td>103.940816</td>\n",
       "    </tr>\n",
       "    <tr>\n",
       "      <th>2014-12-30</th>\n",
       "      <td>103.885969</td>\n",
       "      <td>102.862099</td>\n",
       "      <td>104.141934</td>\n",
       "      <td>102.487294</td>\n",
       "    </tr>\n",
       "    <tr>\n",
       "      <th>2014-12-31</th>\n",
       "      <td>103.136355</td>\n",
       "      <td>100.905785</td>\n",
       "      <td>103.419745</td>\n",
       "      <td>100.750378</td>\n",
       "    </tr>\n",
       "    <tr>\n",
       "      <th>2015-01-02</th>\n",
       "      <td>101.829067</td>\n",
       "      <td>99.945885</td>\n",
       "      <td>101.874778</td>\n",
       "      <td>98.135831</td>\n",
       "    </tr>\n",
       "  </tbody>\n",
       "</table>\n",
       "</div>"
      ],
      "text/plain": [
       "                  open       close        high         low\n",
       "2014-12-26  102.478164  104.205940  104.690448  102.395893\n",
       "2014-12-29  104.023095  104.132797  104.918975  103.940816\n",
       "2014-12-30  103.885969  102.862099  104.141934  102.487294\n",
       "2014-12-31  103.136355  100.905785  103.419745  100.750378\n",
       "2015-01-02  101.829067   99.945885  101.874778   98.135831"
      ]
     },
     "execution_count": 9,
     "metadata": {},
     "output_type": "execute_result"
    }
   ],
   "source": [
    "price['AAPL',-7:'2015-1-2']"
   ]
  },
  {
   "cell_type": "code",
   "execution_count": 10,
   "metadata": {},
   "outputs": [
    {
     "data": {
      "text/html": [
       "<div>\n",
       "<style scoped>\n",
       "    .dataframe tbody tr th:only-of-type {\n",
       "        vertical-align: middle;\n",
       "    }\n",
       "\n",
       "    .dataframe tbody tr th {\n",
       "        vertical-align: top;\n",
       "    }\n",
       "\n",
       "    .dataframe thead th {\n",
       "        text-align: right;\n",
       "    }\n",
       "</style>\n",
       "<table border=\"1\" class=\"dataframe\">\n",
       "  <thead>\n",
       "    <tr style=\"text-align: right;\">\n",
       "      <th></th>\n",
       "      <th>open</th>\n",
       "      <th>close</th>\n",
       "      <th>high</th>\n",
       "      <th>low</th>\n",
       "    </tr>\n",
       "  </thead>\n",
       "  <tbody>\n",
       "    <tr>\n",
       "      <th>2014-12-26</th>\n",
       "      <td>102.478164</td>\n",
       "      <td>104.205940</td>\n",
       "      <td>104.690448</td>\n",
       "      <td>102.395893</td>\n",
       "    </tr>\n",
       "    <tr>\n",
       "      <th>2014-12-29</th>\n",
       "      <td>104.023095</td>\n",
       "      <td>104.132797</td>\n",
       "      <td>104.918975</td>\n",
       "      <td>103.940816</td>\n",
       "    </tr>\n",
       "    <tr>\n",
       "      <th>2014-12-30</th>\n",
       "      <td>103.885969</td>\n",
       "      <td>102.862099</td>\n",
       "      <td>104.141934</td>\n",
       "      <td>102.487294</td>\n",
       "    </tr>\n",
       "    <tr>\n",
       "      <th>2014-12-31</th>\n",
       "      <td>103.136355</td>\n",
       "      <td>100.905785</td>\n",
       "      <td>103.419745</td>\n",
       "      <td>100.750378</td>\n",
       "    </tr>\n",
       "    <tr>\n",
       "      <th>2015-01-02</th>\n",
       "      <td>101.829067</td>\n",
       "      <td>99.945885</td>\n",
       "      <td>101.874778</td>\n",
       "      <td>98.135831</td>\n",
       "    </tr>\n",
       "  </tbody>\n",
       "</table>\n",
       "</div>"
      ],
      "text/plain": [
       "                  open       close        high         low\n",
       "2014-12-26  102.478164  104.205940  104.690448  102.395893\n",
       "2014-12-29  104.023095  104.132797  104.918975  103.940816\n",
       "2014-12-30  103.885969  102.862099  104.141934  102.487294\n",
       "2014-12-31  103.136355  100.905785  103.419745  100.750378\n",
       "2015-01-02  101.829067   99.945885  101.874778   98.135831"
      ]
     },
     "execution_count": 10,
     "metadata": {},
     "output_type": "execute_result"
    }
   ],
   "source": [
    "price['AAPL',relativedelta(days=7):'2015-1-2']"
   ]
  },
  {
   "cell_type": "markdown",
   "metadata": {},
   "source": [
    "## Time Leak Protection\n",
    "During backtesting, the internal states ``current_event`` and ``current_date`` are set internally (you do not have to set these states) and trying to access future values will result in a ``TimeLeakError``."
   ]
  },
  {
   "cell_type": "code",
   "execution_count": 11,
   "metadata": {},
   "outputs": [],
   "source": [
    "# setting internal states for demonstration in this notebook, this happens automatically during a backtest\n",
    "price.current_event = 'open'\n",
    "price.current_date = date(2020,5,18)"
   ]
  },
  {
   "cell_type": "code",
   "execution_count": 12,
   "metadata": {},
   "outputs": [
    {
     "name": "stdout",
     "output_type": "stream",
     "text": [
      "(datetime.date(2020, 5, 18), Timestamp('2020-05-22 00:00:00'), '2020-05-22 00:00:00 is more recent than 2020-05-18, resulting in time leak')\n"
     ]
    }
   ],
   "source": [
    "try:\n",
    "    price['AAPL','2020-5-22']\n",
    "except TimeLeakError as e:\n",
    "    print(e)"
   ]
  },
  {
   "cell_type": "code",
   "execution_count": 13,
   "metadata": {},
   "outputs": [
    {
     "name": "stdout",
     "output_type": "stream",
     "text": [
      "((datetime.date(2020, 5, 18), 'open'), ('2020-5-18', 'close'), 'close is more recent than open, resulting in time leak')\n"
     ]
    }
   ],
   "source": [
    "try:\n",
    "    price['AAPL','2020-5-18','close']\n",
    "except TimeLeakError as e:\n",
    "    print(e)"
   ]
  },
  {
   "cell_type": "markdown",
   "metadata": {},
   "source": [
    "When accessing multiple values, future events are set to ``None``."
   ]
  },
  {
   "cell_type": "code",
   "execution_count": 14,
   "metadata": {
    "scrolled": true
   },
   "outputs": [
    {
     "data": {
      "text/plain": [
       "open     313.17\n",
       "close      None\n",
       "high       None\n",
       "low        None\n",
       "Name: 2020-05-18 00:00:00, dtype: object"
      ]
     },
     "execution_count": 14,
     "metadata": {},
     "output_type": "execute_result"
    }
   ],
   "source": [
    "price['AAPL','2020-5-18']"
   ]
  },
  {
   "cell_type": "code",
   "execution_count": 15,
   "metadata": {
    "scrolled": true
   },
   "outputs": [
    {
     "data": {
      "text/html": [
       "<div>\n",
       "<style scoped>\n",
       "    .dataframe tbody tr th:only-of-type {\n",
       "        vertical-align: middle;\n",
       "    }\n",
       "\n",
       "    .dataframe tbody tr th {\n",
       "        vertical-align: top;\n",
       "    }\n",
       "\n",
       "    .dataframe thead th {\n",
       "        text-align: right;\n",
       "    }\n",
       "</style>\n",
       "<table border=\"1\" class=\"dataframe\">\n",
       "  <thead>\n",
       "    <tr style=\"text-align: right;\">\n",
       "      <th></th>\n",
       "      <th>open</th>\n",
       "      <th>close</th>\n",
       "      <th>high</th>\n",
       "      <th>low</th>\n",
       "    </tr>\n",
       "  </thead>\n",
       "  <tbody>\n",
       "    <tr>\n",
       "      <th>2020-05-13</th>\n",
       "      <td>312.149994</td>\n",
       "      <td>307.649994</td>\n",
       "      <td>315.950012</td>\n",
       "      <td>303.209991</td>\n",
       "    </tr>\n",
       "    <tr>\n",
       "      <th>2020-05-14</th>\n",
       "      <td>304.510010</td>\n",
       "      <td>309.540009</td>\n",
       "      <td>309.790009</td>\n",
       "      <td>301.529999</td>\n",
       "    </tr>\n",
       "    <tr>\n",
       "      <th>2020-05-15</th>\n",
       "      <td>300.350006</td>\n",
       "      <td>307.709991</td>\n",
       "      <td>307.899994</td>\n",
       "      <td>300.209991</td>\n",
       "    </tr>\n",
       "    <tr>\n",
       "      <th>2020-05-18</th>\n",
       "      <td>313.170013</td>\n",
       "      <td>NaN</td>\n",
       "      <td>NaN</td>\n",
       "      <td>NaN</td>\n",
       "    </tr>\n",
       "  </tbody>\n",
       "</table>\n",
       "</div>"
      ],
      "text/plain": [
       "                  open       close        high         low\n",
       "2020-05-13  312.149994  307.649994  315.950012  303.209991\n",
       "2020-05-14  304.510010  309.540009  309.790009  301.529999\n",
       "2020-05-15  300.350006  307.709991  307.899994  300.209991\n",
       "2020-05-18  313.170013         NaN         NaN         NaN"
      ]
     },
     "execution_count": 15,
     "metadata": {},
     "output_type": "execute_result"
    }
   ],
   "source": [
    "price['AAPL',-5:'2020-5-18']"
   ]
  }
 ],
 "metadata": {
  "kernelspec": {
   "display_name": "Python 3",
   "language": "python",
   "name": "python3"
  },
  "language_info": {
   "codemirror_mode": {
    "name": "ipython",
    "version": 3
   },
   "file_extension": ".py",
   "mimetype": "text/x-python",
   "name": "python",
   "nbconvert_exporter": "python",
   "pygments_lexer": "ipython3",
   "version": "3.7.6"
  }
 },
 "nbformat": 4,
 "nbformat_minor": 4
}
