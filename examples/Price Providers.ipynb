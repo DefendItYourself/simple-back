{
 "cells": [
  {
   "cell_type": "markdown",
   "metadata": {},
   "source": [
    "# Price Providers"
   ]
  },
  {
   "cell_type": "code",
   "execution_count": 44,
   "metadata": {},
   "outputs": [],
   "source": [
    "import pandas as pd\n",
    "import numpy as np\n",
    "from dateutil.relativedelta import relativedelta\n",
    "from datetime import date"
   ]
  },
  {
   "cell_type": "code",
   "execution_count": 45,
   "metadata": {},
   "outputs": [],
   "source": [
    "from simple_back.price_providers import YahooFinanceProvider, TimeLeakError"
   ]
  },
  {
   "cell_type": "code",
   "execution_count": 46,
   "metadata": {},
   "outputs": [],
   "source": [
    "price = YahooFinanceProvider()"
   ]
  },
  {
   "cell_type": "code",
   "execution_count": 47,
   "metadata": {},
   "outputs": [],
   "source": [
    "price.clear_cache()"
   ]
  },
  {
   "cell_type": "markdown",
   "metadata": {},
   "source": [
    "### Getting a symbol"
   ]
  },
  {
   "cell_type": "code",
   "execution_count": 48,
   "metadata": {
    "scrolled": true
   },
   "outputs": [
    {
     "data": {
      "text/html": [
       "<div>\n",
       "<style scoped>\n",
       "    .dataframe tbody tr th:only-of-type {\n",
       "        vertical-align: middle;\n",
       "    }\n",
       "\n",
       "    .dataframe tbody tr th {\n",
       "        vertical-align: top;\n",
       "    }\n",
       "\n",
       "    .dataframe thead th {\n",
       "        text-align: right;\n",
       "    }\n",
       "</style>\n",
       "<table border=\"1\" class=\"dataframe\">\n",
       "  <thead>\n",
       "    <tr style=\"text-align: right;\">\n",
       "      <th></th>\n",
       "      <th>open</th>\n",
       "      <th>close</th>\n",
       "      <th>high</th>\n",
       "      <th>low</th>\n",
       "    </tr>\n",
       "  </thead>\n",
       "  <tbody>\n",
       "    <tr>\n",
       "      <th>1980-12-12</th>\n",
       "      <td>0.405683</td>\n",
       "      <td>0.405683</td>\n",
       "      <td>0.407447</td>\n",
       "      <td>0.405683</td>\n",
       "    </tr>\n",
       "    <tr>\n",
       "      <th>1980-12-15</th>\n",
       "      <td>0.386281</td>\n",
       "      <td>0.384517</td>\n",
       "      <td>0.386281</td>\n",
       "      <td>0.384517</td>\n",
       "    </tr>\n",
       "    <tr>\n",
       "      <th>1980-12-16</th>\n",
       "      <td>0.358060</td>\n",
       "      <td>0.356296</td>\n",
       "      <td>0.358060</td>\n",
       "      <td>0.356296</td>\n",
       "    </tr>\n",
       "    <tr>\n",
       "      <th>1980-12-17</th>\n",
       "      <td>0.365115</td>\n",
       "      <td>0.365115</td>\n",
       "      <td>0.366879</td>\n",
       "      <td>0.365115</td>\n",
       "    </tr>\n",
       "    <tr>\n",
       "      <th>1980-12-18</th>\n",
       "      <td>0.375698</td>\n",
       "      <td>0.375698</td>\n",
       "      <td>0.377462</td>\n",
       "      <td>0.375698</td>\n",
       "    </tr>\n",
       "    <tr>\n",
       "      <th>...</th>\n",
       "      <td>...</td>\n",
       "      <td>...</td>\n",
       "      <td>...</td>\n",
       "      <td>...</td>\n",
       "    </tr>\n",
       "    <tr>\n",
       "      <th>2020-05-22</th>\n",
       "      <td>315.769989</td>\n",
       "      <td>318.890015</td>\n",
       "      <td>319.230011</td>\n",
       "      <td>315.350006</td>\n",
       "    </tr>\n",
       "    <tr>\n",
       "      <th>2020-05-26</th>\n",
       "      <td>323.500000</td>\n",
       "      <td>316.730011</td>\n",
       "      <td>324.239990</td>\n",
       "      <td>316.500000</td>\n",
       "    </tr>\n",
       "    <tr>\n",
       "      <th>2020-05-27</th>\n",
       "      <td>316.140015</td>\n",
       "      <td>318.109985</td>\n",
       "      <td>318.709991</td>\n",
       "      <td>313.089996</td>\n",
       "    </tr>\n",
       "    <tr>\n",
       "      <th>2020-05-28</th>\n",
       "      <td>316.769989</td>\n",
       "      <td>318.250000</td>\n",
       "      <td>323.440002</td>\n",
       "      <td>315.630005</td>\n",
       "    </tr>\n",
       "    <tr>\n",
       "      <th>2020-05-29</th>\n",
       "      <td>319.250000</td>\n",
       "      <td>317.940002</td>\n",
       "      <td>321.149994</td>\n",
       "      <td>316.470001</td>\n",
       "    </tr>\n",
       "  </tbody>\n",
       "</table>\n",
       "<p>9950 rows × 4 columns</p>\n",
       "</div>"
      ],
      "text/plain": [
       "                  open       close        high         low\n",
       "1980-12-12    0.405683    0.405683    0.407447    0.405683\n",
       "1980-12-15    0.386281    0.384517    0.386281    0.384517\n",
       "1980-12-16    0.358060    0.356296    0.358060    0.356296\n",
       "1980-12-17    0.365115    0.365115    0.366879    0.365115\n",
       "1980-12-18    0.375698    0.375698    0.377462    0.375698\n",
       "...                ...         ...         ...         ...\n",
       "2020-05-22  315.769989  318.890015  319.230011  315.350006\n",
       "2020-05-26  323.500000  316.730011  324.239990  316.500000\n",
       "2020-05-27  316.140015  318.109985  318.709991  313.089996\n",
       "2020-05-28  316.769989  318.250000  323.440002  315.630005\n",
       "2020-05-29  319.250000  317.940002  321.149994  316.470001\n",
       "\n",
       "[9950 rows x 4 columns]"
      ]
     },
     "execution_count": 48,
     "metadata": {},
     "output_type": "execute_result"
    }
   ],
   "source": [
    "price['AAPL']"
   ]
  },
  {
   "cell_type": "markdown",
   "metadata": {},
   "source": [
    "### Getting values at a specific day"
   ]
  },
  {
   "cell_type": "code",
   "execution_count": 49,
   "metadata": {
    "scrolled": true
   },
   "outputs": [
    {
     "data": {
      "text/plain": [
       "open     101.829\n",
       "close    99.9459\n",
       "high     101.875\n",
       "low      98.1358\n",
       "Name: 2015-01-02 00:00:00, dtype: object"
      ]
     },
     "execution_count": 49,
     "metadata": {},
     "output_type": "execute_result"
    }
   ],
   "source": [
    "price['AAPL','2015-1-2']"
   ]
  },
  {
   "cell_type": "code",
   "execution_count": 50,
   "metadata": {},
   "outputs": [
    {
     "data": {
      "text/plain": [
       "open     313.17\n",
       "close    314.96\n",
       "high      316.5\n",
       "low      310.32\n",
       "Name: 2020-05-18 00:00:00, dtype: object"
      ]
     },
     "execution_count": 50,
     "metadata": {},
     "output_type": "execute_result"
    }
   ],
   "source": [
    "price['AAPL','2020-5-18']"
   ]
  },
  {
   "cell_type": "markdown",
   "metadata": {},
   "source": [
    "### Using a date range"
   ]
  },
  {
   "cell_type": "code",
   "execution_count": 51,
   "metadata": {
    "scrolled": true
   },
   "outputs": [
    {
     "data": {
      "text/html": [
       "<div>\n",
       "<style scoped>\n",
       "    .dataframe tbody tr th:only-of-type {\n",
       "        vertical-align: middle;\n",
       "    }\n",
       "\n",
       "    .dataframe tbody tr th {\n",
       "        vertical-align: top;\n",
       "    }\n",
       "\n",
       "    .dataframe thead th {\n",
       "        text-align: right;\n",
       "    }\n",
       "</style>\n",
       "<table border=\"1\" class=\"dataframe\">\n",
       "  <thead>\n",
       "    <tr style=\"text-align: right;\">\n",
       "      <th></th>\n",
       "      <th>open</th>\n",
       "      <th>close</th>\n",
       "      <th>high</th>\n",
       "      <th>low</th>\n",
       "    </tr>\n",
       "  </thead>\n",
       "  <tbody>\n",
       "    <tr>\n",
       "      <th>2015-01-02</th>\n",
       "      <td>101.829067</td>\n",
       "      <td>99.945885</td>\n",
       "      <td>101.874778</td>\n",
       "      <td>98.135831</td>\n",
       "    </tr>\n",
       "    <tr>\n",
       "      <th>2015-01-05</th>\n",
       "      <td>98.995143</td>\n",
       "      <td>97.130241</td>\n",
       "      <td>99.324244</td>\n",
       "      <td>96.362344</td>\n",
       "    </tr>\n",
       "    <tr>\n",
       "      <th>2015-01-06</th>\n",
       "      <td>97.395385</td>\n",
       "      <td>97.139420</td>\n",
       "      <td>98.208994</td>\n",
       "      <td>95.649322</td>\n",
       "    </tr>\n",
       "    <tr>\n",
       "      <th>2015-01-07</th>\n",
       "      <td>97.998723</td>\n",
       "      <td>98.501518</td>\n",
       "      <td>98.912891</td>\n",
       "      <td>97.541640</td>\n",
       "    </tr>\n",
       "  </tbody>\n",
       "</table>\n",
       "</div>"
      ],
      "text/plain": [
       "                  open      close        high        low\n",
       "2015-01-02  101.829067  99.945885  101.874778  98.135831\n",
       "2015-01-05   98.995143  97.130241   99.324244  96.362344\n",
       "2015-01-06   97.395385  97.139420   98.208994  95.649322\n",
       "2015-01-07   97.998723  98.501518   98.912891  97.541640"
      ]
     },
     "execution_count": 51,
     "metadata": {},
     "output_type": "execute_result"
    }
   ],
   "source": [
    "price['AAPL','2015-1-2':'2015-1-7']"
   ]
  },
  {
   "cell_type": "markdown",
   "metadata": {},
   "source": [
    "### Using relativedelta"
   ]
  },
  {
   "cell_type": "code",
   "execution_count": 52,
   "metadata": {
    "scrolled": true
   },
   "outputs": [
    {
     "data": {
      "text/html": [
       "<div>\n",
       "<style scoped>\n",
       "    .dataframe tbody tr th:only-of-type {\n",
       "        vertical-align: middle;\n",
       "    }\n",
       "\n",
       "    .dataframe tbody tr th {\n",
       "        vertical-align: top;\n",
       "    }\n",
       "\n",
       "    .dataframe thead th {\n",
       "        text-align: right;\n",
       "    }\n",
       "</style>\n",
       "<table border=\"1\" class=\"dataframe\">\n",
       "  <thead>\n",
       "    <tr style=\"text-align: right;\">\n",
       "      <th></th>\n",
       "      <th>open</th>\n",
       "      <th>close</th>\n",
       "      <th>high</th>\n",
       "      <th>low</th>\n",
       "    </tr>\n",
       "  </thead>\n",
       "  <tbody>\n",
       "    <tr>\n",
       "      <th>2020-04-30</th>\n",
       "      <td>289.177206</td>\n",
       "      <td>293.006836</td>\n",
       "      <td>293.734876</td>\n",
       "      <td>287.571567</td>\n",
       "    </tr>\n",
       "    <tr>\n",
       "      <th>2020-05-01</th>\n",
       "      <td>285.477218</td>\n",
       "      <td>288.289612</td>\n",
       "      <td>298.192797</td>\n",
       "      <td>285.078304</td>\n",
       "    </tr>\n",
       "    <tr>\n",
       "      <th>2020-05-04</th>\n",
       "      <td>288.389342</td>\n",
       "      <td>292.368561</td>\n",
       "      <td>292.897129</td>\n",
       "      <td>285.547030</td>\n",
       "    </tr>\n",
       "    <tr>\n",
       "      <th>2020-05-05</th>\n",
       "      <td>294.263433</td>\n",
       "      <td>296.756683</td>\n",
       "      <td>300.187399</td>\n",
       "      <td>293.665046</td>\n",
       "    </tr>\n",
       "    <tr>\n",
       "      <th>2020-05-06</th>\n",
       "      <td>299.648835</td>\n",
       "      <td>299.818390</td>\n",
       "      <td>302.421329</td>\n",
       "      <td>298.063132</td>\n",
       "    </tr>\n",
       "  </tbody>\n",
       "</table>\n",
       "</div>"
      ],
      "text/plain": [
       "                  open       close        high         low\n",
       "2020-04-30  289.177206  293.006836  293.734876  287.571567\n",
       "2020-05-01  285.477218  288.289612  298.192797  285.078304\n",
       "2020-05-04  288.389342  292.368561  292.897129  285.547030\n",
       "2020-05-05  294.263433  296.756683  300.187399  293.665046\n",
       "2020-05-06  299.648835  299.818390  302.421329  298.063132"
      ]
     },
     "execution_count": 52,
     "metadata": {},
     "output_type": "execute_result"
    }
   ],
   "source": [
    "price['AAPL',-relativedelta(months=1):].head()"
   ]
  },
  {
   "cell_type": "markdown",
   "metadata": {},
   "source": [
    "### Using day ints\n",
    "When a negative integer is used, this is interpreted as the number of days to go back."
   ]
  },
  {
   "cell_type": "code",
   "execution_count": 37,
   "metadata": {
    "scrolled": true
   },
   "outputs": [
    {
     "data": {
      "text/html": [
       "<div>\n",
       "<style scoped>\n",
       "    .dataframe tbody tr th:only-of-type {\n",
       "        vertical-align: middle;\n",
       "    }\n",
       "\n",
       "    .dataframe tbody tr th {\n",
       "        vertical-align: top;\n",
       "    }\n",
       "\n",
       "    .dataframe thead th {\n",
       "        text-align: right;\n",
       "    }\n",
       "</style>\n",
       "<table border=\"1\" class=\"dataframe\">\n",
       "  <thead>\n",
       "    <tr style=\"text-align: right;\">\n",
       "      <th></th>\n",
       "      <th>open</th>\n",
       "      <th>close</th>\n",
       "      <th>high</th>\n",
       "      <th>low</th>\n",
       "    </tr>\n",
       "  </thead>\n",
       "  <tbody>\n",
       "    <tr>\n",
       "      <th>2020-05-26</th>\n",
       "      <td>323.500000</td>\n",
       "      <td>316.730011</td>\n",
       "      <td>324.239990</td>\n",
       "      <td>316.500000</td>\n",
       "    </tr>\n",
       "    <tr>\n",
       "      <th>2020-05-27</th>\n",
       "      <td>316.140015</td>\n",
       "      <td>318.109985</td>\n",
       "      <td>318.709991</td>\n",
       "      <td>313.089996</td>\n",
       "    </tr>\n",
       "    <tr>\n",
       "      <th>2020-05-28</th>\n",
       "      <td>316.769989</td>\n",
       "      <td>318.250000</td>\n",
       "      <td>323.440002</td>\n",
       "      <td>315.630005</td>\n",
       "    </tr>\n",
       "    <tr>\n",
       "      <th>2020-05-29</th>\n",
       "      <td>319.250000</td>\n",
       "      <td>317.940002</td>\n",
       "      <td>321.149994</td>\n",
       "      <td>316.470001</td>\n",
       "    </tr>\n",
       "  </tbody>\n",
       "</table>\n",
       "</div>"
      ],
      "text/plain": [
       "                  open       close        high         low\n",
       "2020-05-26  323.500000  316.730011  324.239990  316.500000\n",
       "2020-05-27  316.140015  318.109985  318.709991  313.089996\n",
       "2020-05-28  316.769989  318.250000  323.440002  315.630005\n",
       "2020-05-29  319.250000  317.940002  321.149994  316.470001"
      ]
     },
     "execution_count": 37,
     "metadata": {},
     "output_type": "execute_result"
    }
   ],
   "source": [
    "price['AAPL',-7:]"
   ]
  },
  {
   "cell_type": "markdown",
   "metadata": {},
   "source": [
    "Relativedeltas and integers work respective of the end date specified after `:` - If none is specified, the current date is used."
   ]
  },
  {
   "cell_type": "code",
   "execution_count": 38,
   "metadata": {
    "scrolled": true
   },
   "outputs": [
    {
     "data": {
      "text/html": [
       "<div>\n",
       "<style scoped>\n",
       "    .dataframe tbody tr th:only-of-type {\n",
       "        vertical-align: middle;\n",
       "    }\n",
       "\n",
       "    .dataframe tbody tr th {\n",
       "        vertical-align: top;\n",
       "    }\n",
       "\n",
       "    .dataframe thead th {\n",
       "        text-align: right;\n",
       "    }\n",
       "</style>\n",
       "<table border=\"1\" class=\"dataframe\">\n",
       "  <thead>\n",
       "    <tr style=\"text-align: right;\">\n",
       "      <th></th>\n",
       "      <th>open</th>\n",
       "      <th>close</th>\n",
       "      <th>high</th>\n",
       "      <th>low</th>\n",
       "    </tr>\n",
       "  </thead>\n",
       "  <tbody>\n",
       "    <tr>\n",
       "      <th>2014-12-26</th>\n",
       "      <td>102.478164</td>\n",
       "      <td>104.205940</td>\n",
       "      <td>104.690448</td>\n",
       "      <td>102.395893</td>\n",
       "    </tr>\n",
       "    <tr>\n",
       "      <th>2014-12-29</th>\n",
       "      <td>104.023095</td>\n",
       "      <td>104.132797</td>\n",
       "      <td>104.918975</td>\n",
       "      <td>103.940816</td>\n",
       "    </tr>\n",
       "    <tr>\n",
       "      <th>2014-12-30</th>\n",
       "      <td>103.885969</td>\n",
       "      <td>102.862099</td>\n",
       "      <td>104.141934</td>\n",
       "      <td>102.487294</td>\n",
       "    </tr>\n",
       "    <tr>\n",
       "      <th>2014-12-31</th>\n",
       "      <td>103.136355</td>\n",
       "      <td>100.905785</td>\n",
       "      <td>103.419745</td>\n",
       "      <td>100.750378</td>\n",
       "    </tr>\n",
       "    <tr>\n",
       "      <th>2015-01-02</th>\n",
       "      <td>101.829067</td>\n",
       "      <td>99.945885</td>\n",
       "      <td>101.874778</td>\n",
       "      <td>98.135831</td>\n",
       "    </tr>\n",
       "  </tbody>\n",
       "</table>\n",
       "</div>"
      ],
      "text/plain": [
       "                  open       close        high         low\n",
       "2014-12-26  102.478164  104.205940  104.690448  102.395893\n",
       "2014-12-29  104.023095  104.132797  104.918975  103.940816\n",
       "2014-12-30  103.885969  102.862099  104.141934  102.487294\n",
       "2014-12-31  103.136355  100.905785  103.419745  100.750378\n",
       "2015-01-02  101.829067   99.945885  101.874778   98.135831"
      ]
     },
     "execution_count": 38,
     "metadata": {},
     "output_type": "execute_result"
    }
   ],
   "source": [
    "price['AAPL',-7:'2015-1-2']"
   ]
  },
  {
   "cell_type": "code",
   "execution_count": 39,
   "metadata": {},
   "outputs": [
    {
     "data": {
      "text/html": [
       "<div>\n",
       "<style scoped>\n",
       "    .dataframe tbody tr th:only-of-type {\n",
       "        vertical-align: middle;\n",
       "    }\n",
       "\n",
       "    .dataframe tbody tr th {\n",
       "        vertical-align: top;\n",
       "    }\n",
       "\n",
       "    .dataframe thead th {\n",
       "        text-align: right;\n",
       "    }\n",
       "</style>\n",
       "<table border=\"1\" class=\"dataframe\">\n",
       "  <thead>\n",
       "    <tr style=\"text-align: right;\">\n",
       "      <th></th>\n",
       "      <th>open</th>\n",
       "      <th>close</th>\n",
       "      <th>high</th>\n",
       "      <th>low</th>\n",
       "    </tr>\n",
       "  </thead>\n",
       "  <tbody>\n",
       "    <tr>\n",
       "      <th>2014-12-26</th>\n",
       "      <td>102.478164</td>\n",
       "      <td>104.205940</td>\n",
       "      <td>104.690448</td>\n",
       "      <td>102.395893</td>\n",
       "    </tr>\n",
       "    <tr>\n",
       "      <th>2014-12-29</th>\n",
       "      <td>104.023095</td>\n",
       "      <td>104.132797</td>\n",
       "      <td>104.918975</td>\n",
       "      <td>103.940816</td>\n",
       "    </tr>\n",
       "    <tr>\n",
       "      <th>2014-12-30</th>\n",
       "      <td>103.885969</td>\n",
       "      <td>102.862099</td>\n",
       "      <td>104.141934</td>\n",
       "      <td>102.487294</td>\n",
       "    </tr>\n",
       "    <tr>\n",
       "      <th>2014-12-31</th>\n",
       "      <td>103.136355</td>\n",
       "      <td>100.905785</td>\n",
       "      <td>103.419745</td>\n",
       "      <td>100.750378</td>\n",
       "    </tr>\n",
       "    <tr>\n",
       "      <th>2015-01-02</th>\n",
       "      <td>101.829067</td>\n",
       "      <td>99.945885</td>\n",
       "      <td>101.874778</td>\n",
       "      <td>98.135831</td>\n",
       "    </tr>\n",
       "  </tbody>\n",
       "</table>\n",
       "</div>"
      ],
      "text/plain": [
       "                  open       close        high         low\n",
       "2014-12-26  102.478164  104.205940  104.690448  102.395893\n",
       "2014-12-29  104.023095  104.132797  104.918975  103.940816\n",
       "2014-12-30  103.885969  102.862099  104.141934  102.487294\n",
       "2014-12-31  103.136355  100.905785  103.419745  100.750378\n",
       "2015-01-02  101.829067   99.945885  101.874778   98.135831"
      ]
     },
     "execution_count": 39,
     "metadata": {},
     "output_type": "execute_result"
    }
   ],
   "source": [
    "price['AAPL',-relativedelta(days=7):'2015-1-2']"
   ]
  },
  {
   "cell_type": "markdown",
   "metadata": {},
   "source": [
    "## Time Leak Protection\n",
    "During backtesting, the internal states ``current_event`` and ``current_date`` are set internally (you do not have to set these states) and trying to access future values will result in a ``TimeLeakError``."
   ]
  },
  {
   "cell_type": "code",
   "execution_count": 40,
   "metadata": {},
   "outputs": [],
   "source": [
    "# setting internal states for demonstration in this notebook, this happens automatically during a backtest\n",
    "price.current_event = 'open'\n",
    "price.current_date = date(2020,5,18)"
   ]
  },
  {
   "cell_type": "code",
   "execution_count": 41,
   "metadata": {},
   "outputs": [
    {
     "name": "stdout",
     "output_type": "stream",
     "text": [
      "(datetime.date(2020, 5, 18), Timestamp('2020-05-22 00:00:00'), '2020-05-22 00:00:00 is more recent than 2020-05-18, resulting in time leak')\n"
     ]
    }
   ],
   "source": [
    "try:\n",
    "    price['AAPL','2020-5-22']\n",
    "except TimeLeakError as e:\n",
    "    print(e)"
   ]
  },
  {
   "cell_type": "markdown",
   "metadata": {},
   "source": [
    "When accessing multiple values, future events are set to ``None``."
   ]
  },
  {
   "cell_type": "code",
   "execution_count": 42,
   "metadata": {
    "scrolled": true
   },
   "outputs": [
    {
     "data": {
      "text/plain": [
       "open     313.17\n",
       "close      None\n",
       "high       None\n",
       "low        None\n",
       "Name: 2020-05-18 00:00:00, dtype: object"
      ]
     },
     "execution_count": 42,
     "metadata": {},
     "output_type": "execute_result"
    }
   ],
   "source": [
    "price['AAPL','2020-5-18']"
   ]
  },
  {
   "cell_type": "code",
   "execution_count": 43,
   "metadata": {
    "scrolled": true
   },
   "outputs": [
    {
     "data": {
      "text/html": [
       "<div>\n",
       "<style scoped>\n",
       "    .dataframe tbody tr th:only-of-type {\n",
       "        vertical-align: middle;\n",
       "    }\n",
       "\n",
       "    .dataframe tbody tr th {\n",
       "        vertical-align: top;\n",
       "    }\n",
       "\n",
       "    .dataframe thead th {\n",
       "        text-align: right;\n",
       "    }\n",
       "</style>\n",
       "<table border=\"1\" class=\"dataframe\">\n",
       "  <thead>\n",
       "    <tr style=\"text-align: right;\">\n",
       "      <th></th>\n",
       "      <th>open</th>\n",
       "      <th>close</th>\n",
       "      <th>high</th>\n",
       "      <th>low</th>\n",
       "    </tr>\n",
       "  </thead>\n",
       "  <tbody>\n",
       "    <tr>\n",
       "      <th>2020-05-13</th>\n",
       "      <td>312.149994</td>\n",
       "      <td>307.649994</td>\n",
       "      <td>315.950012</td>\n",
       "      <td>303.209991</td>\n",
       "    </tr>\n",
       "    <tr>\n",
       "      <th>2020-05-14</th>\n",
       "      <td>304.510010</td>\n",
       "      <td>309.540009</td>\n",
       "      <td>309.790009</td>\n",
       "      <td>301.529999</td>\n",
       "    </tr>\n",
       "    <tr>\n",
       "      <th>2020-05-15</th>\n",
       "      <td>300.350006</td>\n",
       "      <td>307.709991</td>\n",
       "      <td>307.899994</td>\n",
       "      <td>300.209991</td>\n",
       "    </tr>\n",
       "    <tr>\n",
       "      <th>2020-05-18</th>\n",
       "      <td>313.170013</td>\n",
       "      <td>NaN</td>\n",
       "      <td>NaN</td>\n",
       "      <td>NaN</td>\n",
       "    </tr>\n",
       "  </tbody>\n",
       "</table>\n",
       "</div>"
      ],
      "text/plain": [
       "                  open       close        high         low\n",
       "2020-05-13  312.149994  307.649994  315.950012  303.209991\n",
       "2020-05-14  304.510010  309.540009  309.790009  301.529999\n",
       "2020-05-15  300.350006  307.709991  307.899994  300.209991\n",
       "2020-05-18  313.170013         NaN         NaN         NaN"
      ]
     },
     "execution_count": 43,
     "metadata": {},
     "output_type": "execute_result"
    }
   ],
   "source": [
    "price['AAPL',-5:'2020-5-18']"
   ]
  },
  {
   "cell_type": "code",
   "execution_count": null,
   "metadata": {},
   "outputs": [],
   "source": []
  }
 ],
 "metadata": {
  "kernelspec": {
   "display_name": "Python 3",
   "language": "python",
   "name": "python3"
  },
  "language_info": {
   "codemirror_mode": {
    "name": "ipython",
    "version": 3
   },
   "file_extension": ".py",
   "mimetype": "text/x-python",
   "name": "python",
   "nbconvert_exporter": "python",
   "pygments_lexer": "ipython3",
   "version": "3.7.6"
  }
 },
 "nbformat": 4,
 "nbformat_minor": 4
}
